{
 "cells": [
  {
   "cell_type": "markdown",
   "metadata": {},
   "source": [
    "# Libraries"
   ]
  },
  {
   "cell_type": "code",
   "execution_count": 51,
   "metadata": {},
   "outputs": [],
   "source": [
    "# Imports\n",
    "import pandas as pd\n",
    "import os\n",
    "import flair\n",
    "import torch\n",
    "import re\n",
    "import numpy as np\n",
    "import seaborn as sns\n",
    "import matplotlib.pyplot as plt\n",
    "from pylab import rcParams\n",
    "from sklearn.utils import shuffle\n",
    "from collections import Counter\n",
    "from imblearn.under_sampling import RandomUnderSampler\n",
    "from imblearn.over_sampling import RandomOverSampler\n",
    "from simpletransformers.classification import ClassificationModel\n",
    "import logging\n",
    "import sklearn\n",
    "from tqdm import tqdm\n",
    "tqdm.pandas(desc=\"progress-bar\")\n",
    "from datetime import datetime\n",
    "\n",
    "# sklearn libraries\n",
    "from sklearn.model_selection import train_test_split\n",
    "from sklearn import utils\n",
    "from sklearn.utils import resample # downsample etc\n",
    "\n",
    "from sklearn.metrics import accuracy_score, classification_report, f1_score\n",
    "from sklearn.model_selection import KFold,cross_val_score\n",
    "\n",
    "from sklearn.feature_extraction.text import CountVectorizer\n",
    "from sklearn.feature_extraction.text import TfidfTransformer\n",
    "\n",
    "# ML models\n",
    "from sklearn.naive_bayes import MultinomialNB\n",
    "from sklearn.linear_model import LogisticRegression\n",
    "from sklearn.ensemble import RandomForestClassifier\n",
    "from sklearn.linear_model import SGDClassifier\n",
    "from sklearn.neural_network import MLPClassifier\n",
    "from sklearn.svm import SVC\n",
    "\n",
    "from sklearn.model_selection import GridSearchCV\n",
    "\n",
    "from imblearn.over_sampling import SMOTE\n",
    "\n",
    "cwd = os.getcwd()\n",
    "device = torch.device(\"cuda:0\" if torch.cuda.is_available() else \"cpu\")"
   ]
  },
  {
   "cell_type": "code",
   "execution_count": 52,
   "metadata": {},
   "outputs": [
    {
     "name": "stderr",
     "output_type": "stream",
     "text": [
      "[nltk_data] Downloading package stopwords to\n",
      "[nltk_data]     C:\\Users\\jmarcoglie\\AppData\\Roaming\\nltk_data...\n",
      "[nltk_data]   Package stopwords is already up-to-date!\n",
      "[nltk_data] Downloading package punkt to\n",
      "[nltk_data]     C:\\Users\\jmarcoglie\\AppData\\Roaming\\nltk_data...\n",
      "[nltk_data]   Package punkt is already up-to-date!\n",
      "[nltk_data] Downloading package wordnet to\n",
      "[nltk_data]     C:\\Users\\jmarcoglie\\AppData\\Roaming\\nltk_data...\n",
      "[nltk_data]   Package wordnet is already up-to-date!\n",
      "[nltk_data] Downloading package omw-1.4 to\n",
      "[nltk_data]     C:\\Users\\jmarcoglie\\AppData\\Roaming\\nltk_data...\n",
      "[nltk_data]   Package omw-1.4 is already up-to-date!\n",
      "[nltk_data] Downloading package vader_lexicon to\n",
      "[nltk_data]     C:\\Users\\jmarcoglie\\AppData\\Roaming\\nltk_data...\n",
      "[nltk_data]   Package vader_lexicon is already up-to-date!\n"
     ]
    }
   ],
   "source": [
    "# nlp libs\n",
    "import re\n",
    "\n",
    "import gensim\n",
    "from gensim.models import Word2Vec\n",
    "from gensim.models import Doc2Vec\n",
    "from gensim.models.doc2vec import TaggedDocument\n",
    "\n",
    "import nltk\n",
    "nltk.download('stopwords')\n",
    "nltk.download('punkt') # for stemming\n",
    "nltk.download('wordnet') # for lemmatizing\n",
    "nltk.download('omw-1.4')\n",
    "nltk.download('vader_lexicon')\n",
    "\n",
    "from nltk.corpus import stopwords\n",
    "\n",
    "from nltk.stem.snowball import SnowballStemmer\n",
    "from nltk.stem.porter import PorterStemmer\n",
    "from nltk.tokenize import word_tokenize\n",
    "\n",
    "from nltk.stem import WordNetLemmatizer"
   ]
  },
  {
   "cell_type": "markdown",
   "metadata": {},
   "source": [
    "# Load Data"
   ]
  },
  {
   "cell_type": "code",
   "execution_count": 101,
   "metadata": {},
   "outputs": [
    {
     "name": "stdout",
     "output_type": "stream",
     "text": [
      "                                                   text  sentiment\n",
      "0     Kickers on my watchlist XIDE TIT SOQ PNK CPW B...          1\n",
      "1     user: AAP MOVIE. 55% return for the FEA/GEED i...          1\n",
      "2     user I'd be afraid to short AMZN - they are lo...          1\n",
      "3                                     MNTA Over 12.00            1\n",
      "4                                      OI  Over 21.37            1\n",
      "...                                                 ...        ...\n",
      "5786  Industry body CII said #discoms are likely to ...         -1\n",
      "5787  #Gold prices slip below Rs 46,000 as #investor...         -1\n",
      "5788  Workers at Bajaj Auto have agreed to a 10% wag...          1\n",
      "5789  #Sharemarket LIVE: Sensex off day’s high, up 6...          1\n",
      "5790  #Sensex, #Nifty climb off day's highs, still u...          1\n",
      "\n",
      "[5791 rows x 2 columns]\n",
      "                                                   text sentiment\n",
      "0     RT @RobertBeadles: Yo💥\\nEnter to WIN 1,000 Mon...  positive\n",
      "1     #SriLanka surcharge on fuel removed!\\n⛽📉\\nThe ...  negative\n",
      "2     Net issuance increases to fund fiscal programs...  positive\n",
      "3     RT @bentboolean: How much of Amazon's traffic ...  positive\n",
      "4     $AMD Ryzen 4000 desktop CPUs looking ‘great’ a...  positive\n",
      "...                                                 ...       ...\n",
      "1295  #stocks back from the recovery room: https://t...  positive\n",
      "1296  RT @MacroCharts: Breadth – expanding last week...  positive\n",
      "1297  RT @MawsonResource: Rompas-Rajapalot: A Big Ne...   neutral\n",
      "1298  $AAPL $QQQ Top may now be in. https://t.co/iNK...  positive\n",
      "1299  GLG Partners LP short position in HILTON FOOD ...  negative\n",
      "\n",
      "[1300 rows x 2 columns]\n"
     ]
    }
   ],
   "source": [
    "# https://www.kaggle.com/utkarshxy/stock-markettweets-lexicon-data - 9917 labelled tweets\n",
    "stock_data_file = os.getcwd() + \"\\\\Data\\\\stock_data.csv\"\n",
    "stock_data = pd.read_csv(stock_data_file)\n",
    "stock_data= stock_data.rename(columns=str.lower)\n",
    "stock_data.dropna(inplace=True)\n",
    "print(stock_data)\n",
    "\n",
    "# https://www.kaggle.com/yash612/stockmarket-sentiment-dataset - 5791 labelled tweets\n",
    "tweets_data_file = os.getcwd() + \"\\\\Data\\\\tweets_labelled.csv\"\n",
    "tweets_data = pd.read_csv(tweets_data_file, delimiter=';')\n",
    "tweets_data.drop(columns=['id','created_at'], inplace=True)\n",
    "tweets_data.dropna(inplace=True)\n",
    "print(tweets_data)\n",
    "\n",
    "# combine\n",
    "dataset_frames = [stock_data, tweets_data]\n",
    "dataset_frames_names = [\"stock_data\", \"tweets_data\"]\n",
    "combined_df = result = pd.concat(dataset_frames)"
   ]
  },
  {
   "cell_type": "markdown",
   "metadata": {},
   "source": [
    "## Text Pre-processing"
   ]
  },
  {
   "cell_type": "markdown",
   "metadata": {},
   "source": [
    "### Definitions"
   ]
  },
  {
   "cell_type": "code",
   "execution_count": 54,
   "metadata": {},
   "outputs": [],
   "source": [
    "def sentiment_to_label(sentiment):\n",
    "    if sentiment == \"positive\" or sentiment == 1:\n",
    "        return 1\n",
    "    elif sentiment == \"negative\" or sentiment == -1 or sentiment == 0:\n",
    "        return 0\n",
    "    else:\n",
    "        return pd.NA\n",
    "\n",
    "porter_stemmer = PorterStemmer()\n",
    "def stemming_tokenizer(str_input):\n",
    "    words = re.sub(r\"[^A-Za-z0-9\\-]\", \" \", str_input).lower().split()\n",
    "    words = [porter_stemmer.stem(word) for word in words]\n",
    "    return words\n",
    "\n",
    "lemmer=WordNetLemmatizer()\n",
    "def lemmatizing_tokenizer(str_input):\n",
    "    words = re.sub(r\"[^A-Za-z0-9\\-]\", \" \", str_input).lower().split()\n",
    "    words = [lemmer.lemmatize(word) for word in words]\n",
    "    return words\n",
    "\n",
    "# From Lab\n",
    "df_new = combined_df.reset_index(drop=True)\n",
    "REPLACE_BY_SPACE_RE = re.compile('[/(){}\\[\\]\\|@,;]')\n",
    "BAD_SYMBOLS_RE = re.compile('[^0-9a-z #+_]')\n",
    "STOPWORDS = set(stopwords.words('english'))\n",
    "\n",
    "def clean_text(text):\n",
    "    \"\"\"\n",
    "        text: a string\n",
    "        return: modified initial string\n",
    "    \"\"\"\n",
    "    \n",
    "    text = text.lower() # lowercase text\n",
    "    text = REPLACE_BY_SPACE_RE.sub(' ', text) # replace REPLACE_BY_SPACE_RE symbols by space in text. substitute the matched string in REPLACE_BY_SPACE_RE with space.\n",
    "    text = BAD_SYMBOLS_RE.sub('', text) # remove symbols which are in BAD_SYMBOLS_RE from text. substitute the matched string in BAD_SYMBOLS_RE with nothing. \n",
    "    text = text.replace('x', '')\n",
    "#    text = re.sub(r'\\W+', '', text)\n",
    "    text = ' '.join(word for word in text.split() if word not in STOPWORDS) # remove stopwors from text\n",
    "\n",
    "    return text"
   ]
  },
  {
   "cell_type": "markdown",
   "metadata": {},
   "source": [
    "### Apply Cleaning"
   ]
  },
  {
   "cell_type": "code",
   "execution_count": 55,
   "metadata": {},
   "outputs": [
    {
     "name": "stderr",
     "output_type": "stream",
     "text": [
      "C:\\Users\\JMARCO~1\\AppData\\Local\\Temp/ipykernel_7700/3874924955.py:2: FutureWarning: The default value of regex will change from True to False in a future version.\n",
      "  df_new['text'] = df_new['text'].str.replace('\\d+', '')\n"
     ]
    },
    {
     "data": {
      "text/html": [
       "<div>\n",
       "<style scoped>\n",
       "    .dataframe tbody tr th:only-of-type {\n",
       "        vertical-align: middle;\n",
       "    }\n",
       "\n",
       "    .dataframe tbody tr th {\n",
       "        vertical-align: top;\n",
       "    }\n",
       "\n",
       "    .dataframe thead th {\n",
       "        text-align: right;\n",
       "    }\n",
       "</style>\n",
       "<table border=\"1\" class=\"dataframe\">\n",
       "  <thead>\n",
       "    <tr style=\"text-align: right;\">\n",
       "      <th></th>\n",
       "      <th>text</th>\n",
       "      <th>sentiment</th>\n",
       "    </tr>\n",
       "  </thead>\n",
       "  <tbody>\n",
       "    <tr>\n",
       "      <th>1003</th>\n",
       "      <td>short term bearish cyh goes parabolic upper ba...</td>\n",
       "      <td>0.0</td>\n",
       "    </tr>\n",
       "    <tr>\n",
       "      <th>7046</th>\n",
       "      <td>msft okay https tco vnibpzbbpw</td>\n",
       "      <td>0.0</td>\n",
       "    </tr>\n",
       "    <tr>\n",
       "      <th>5436</th>\n",
       "      <td>sense ends  points higher nifty   markets brea...</td>\n",
       "      <td>1.0</td>\n",
       "    </tr>\n",
       "    <tr>\n",
       "      <th>1860</th>\n",
       "      <td>amzn postearnings eversal</td>\n",
       "      <td>0.0</td>\n",
       "    </tr>\n",
       "    <tr>\n",
       "      <th>6365</th>\n",
       "      <td>everyday #optimism + market open sp ndfutures ...</td>\n",
       "      <td>1.0</td>\n",
       "    </tr>\n",
       "  </tbody>\n",
       "</table>\n",
       "</div>"
      ],
      "text/plain": [
       "                                                   text  sentiment\n",
       "1003  short term bearish cyh goes parabolic upper ba...        0.0\n",
       "7046                     msft okay https tco vnibpzbbpw        0.0\n",
       "5436  sense ends  points higher nifty   markets brea...        1.0\n",
       "1860                          amzn postearnings eversal        0.0\n",
       "6365  everyday #optimism + market open sp ndfutures ...        1.0"
      ]
     },
     "execution_count": 55,
     "metadata": {},
     "output_type": "execute_result"
    }
   ],
   "source": [
    "df_new['text'] = df_new['text'].apply(clean_text)\n",
    "df_new['text'] = df_new['text'].str.replace('\\d+', '')\n",
    "df_new['sentiment'] = df_new['sentiment'].apply(sentiment_to_label)\n",
    "df_new['sentiment'] = pd.to_numeric(df_new['sentiment'])\n",
    "df_new.dropna(inplace=True)\n",
    "df_new = shuffle(df_new)\n",
    "df_new\n",
    "df_new.head()"
   ]
  },
  {
   "cell_type": "code",
   "execution_count": 56,
   "metadata": {},
   "outputs": [
    {
     "name": "stdout",
     "output_type": "stream",
     "text": [
      "1.0    4213\n",
      "0.0    2454\n",
      "Name: sentiment, dtype: int64\n"
     ]
    },
    {
     "name": "stderr",
     "output_type": "stream",
     "text": [
      "C:\\ProgramData\\Anaconda3\\lib\\site-packages\\seaborn\\_decorators.py:36: FutureWarning: Pass the following variable as a keyword arg: x. From version 0.12, the only valid positional argument will be `data`, and passing other arguments without an explicit keyword will result in an error or misinterpretation.\n",
      "  warnings.warn(\n"
     ]
    },
    {
     "data": {
      "text/plain": [
       "Text(0.5, 0, 'sentiment')"
      ]
     },
     "execution_count": 56,
     "metadata": {},
     "output_type": "execute_result"
    },
    {
     "data": {
      "image/png": "[encoded data removed]",
      "text/plain": [
       "<Figure size 576x432 with 1 Axes>"
      ]
     },
     "metadata": {
      "needs_background": "light"
     },
     "output_type": "display_data"
    }
   ],
   "source": [
    "print(df_new['sentiment'].value_counts())\n",
    "rcParams['figure.figsize'] = 8, 6\n",
    "sns.countplot(df_new.sentiment)\n",
    "plt.xlabel('sentiment')"
   ]
  },
  {
   "cell_type": "markdown",
   "metadata": {},
   "source": [
    "### Adjust inbalanced set (Pick one)"
   ]
  },
  {
   "cell_type": "code",
   "execution_count": 84,
   "metadata": {},
   "outputs": [],
   "source": [
    "# rus = RandomUnderSampler(random_state=42)\n",
    "# X_res, y_res = rus.fit_resample(df_new['text'].to_numpy().reshape(-1, 1), df_new['sentiment'])\n",
    "# print('Resampled dataset shape %s' % Counter(y_res))\n",
    "# X = X_res.flatten()\n",
    "# y = [int(x) for x in y_res]\n",
    "\n",
    "# rus = RandomOverSampler(random_state=42)\n",
    "# X_res, y_res = rus.fit_resample(df_new['text'].to_numpy().reshape(-1, 1), df_new['sentiment'])\n",
    "# print('Resampled dataset shape %s' % Counter(y_res))\n",
    "# X = X_res.flatten()\n",
    "# y = [int(x) for x in y_res]\n",
    "\n",
    "X = df_new['text']\n",
    "y = [int(x) for x in df_new['sentiment']]"
   ]
  },
  {
   "cell_type": "code",
   "execution_count": 58,
   "metadata": {},
   "outputs": [
    {
     "name": "stdout",
     "output_type": "stream",
     "text": [
      "X_binary_counts.shape (6667, 9879)\n",
      "X_binary_counts[20]:\n",
      "  (0, 9795)\t1\n",
      "  (0, 8404)\t1\n",
      "X_binary_counts.toarray()[0] [0 0 0 ... 0 0 0]\n",
      "len(X_binary_counts.toarray()[0]) 9879\n",
      "max(X_binary_counts.toarray()[0]) 1\n"
     ]
    }
   ],
   "source": [
    "count_vect = CountVectorizer(tokenizer=stemming_tokenizer)\n",
    "X_binary_counts = count_vect.fit_transform(X)\n",
    "print(\"X_binary_counts.shape\", X_binary_counts.shape)\n",
    "print(\"X_binary_counts[20]:\\n%s\" %X_binary_counts[20])\n",
    "print(\"X_binary_counts.toarray()[0]\", X_binary_counts.toarray()[0])\n",
    "print(\"len(X_binary_counts.toarray()[0])\", len(X_binary_counts.toarray()[0]))\n",
    "print(\"max(X_binary_counts.toarray()[0])\", max(X_binary_counts.toarray()[0]))"
   ]
  },
  {
   "cell_type": "markdown",
   "metadata": {},
   "source": [
    "##### TF-IDF"
   ]
  },
  {
   "cell_type": "code",
   "execution_count": 59,
   "metadata": {},
   "outputs": [
    {
     "name": "stdout",
     "output_type": "stream",
     "text": [
      "X_tfidf_binary.shape (6667, 9879)\n"
     ]
    },
    {
     "data": {
      "text/plain": [
       "array([[0., 0., 0., ..., 0., 0., 0.],\n",
       "       [0., 0., 0., ..., 0., 0., 0.],\n",
       "       [0., 0., 0., ..., 0., 0., 0.],\n",
       "       ...,\n",
       "       [0., 0., 0., ..., 0., 0., 0.],\n",
       "       [0., 0., 0., ..., 0., 0., 0.],\n",
       "       [0., 0., 0., ..., 0., 0., 0.]])"
      ]
     },
     "execution_count": 59,
     "metadata": {},
     "output_type": "execute_result"
    }
   ],
   "source": [
    "tfidf_transformer = TfidfTransformer()\n",
    "\n",
    "X_tfidf_binary = tfidf_transformer.fit_transform(X_binary_counts)\n",
    "print(\"X_tfidf_binary.shape\", X_tfidf_binary.shape)\n",
    "X_all_binary = X_tfidf_binary.toarray()\n",
    "X_all_binary"
   ]
  },
  {
   "cell_type": "markdown",
   "metadata": {},
   "source": [
    "##### Smote Oversampling (INSTEAD OF EARLIER UNDER/OVER SAMPLING)"
   ]
  },
  {
   "cell_type": "code",
   "execution_count": 60,
   "metadata": {},
   "outputs": [
    {
     "name": "stdout",
     "output_type": "stream",
     "text": [
      "SMOTE oversamples dataset shape Counter({0: 4213, 1: 4213})\n",
      "X_res.shape (8426, 9879)\n"
     ]
    },
    {
     "data": {
      "text/plain": [
       "array([[0., 0., 0., ..., 0., 0., 0.],\n",
       "       [0., 0., 0., ..., 0., 0., 0.],\n",
       "       [0., 0., 0., ..., 0., 0., 0.],\n",
       "       ...,\n",
       "       [0., 0., 0., ..., 0., 0., 0.],\n",
       "       [0., 0., 0., ..., 0., 0., 0.],\n",
       "       [0., 0., 0., ..., 0., 0., 0.]])"
      ]
     },
     "execution_count": 60,
     "metadata": {},
     "output_type": "execute_result"
    }
   ],
   "source": [
    "smote = SMOTE(random_state=42)\n",
    "X_res, y_res = smote.fit_resample(X_all_binary, y)\n",
    "print('SMOTE oversamples dataset shape %s' % Counter(y_res))\n",
    "print(\"X_res.shape\", X_res.shape)\n",
    "X_all_binary = X_res\n",
    "y = [int(x) for x in y_res]"
   ]
  },
  {
   "cell_type": "markdown",
   "metadata": {},
   "source": [
    "##### train-test split"
   ]
  },
  {
   "cell_type": "code",
   "execution_count": 61,
   "metadata": {},
   "outputs": [
    {
     "name": "stdout",
     "output_type": "stream",
     "text": [
      "i_nTestPts_binary 1685\n",
      "(6740, 9879) (6740,)\n",
      "(1686, 9879) (1686,)\n"
     ]
    }
   ],
   "source": [
    "d_test_size = 0.2\n",
    "i_nTestPts_binary = int(d_test_size*len(X_all_binary))\n",
    "print(\"i_nTestPts_binary\", i_nTestPts_binary)\n",
    "\n",
    "b_split_byIndex = False\n",
    "if b_split_byIndex == True:    \n",
    "    X_train_binary, X_test_binary, y_train_binary, y_test_binary = X_all_binary[:-i_nTestPts_binary], X_all_binary[-i_nTestPts_binary:], y[:-i_nTestPts_binary], y[-i_nTestPts_binary:]\n",
    "else:\n",
    "    X_train_binary, X_test_binary, y_train_binary, y_test_binary = train_test_split(X_all_binary, y, test_size = d_test_size, random_state = 42)\n",
    "\n",
    "X_train_binary = np.array(X_train_binary)\n",
    "y_train_binary = np.array(y_train_binary)\n",
    "y_test_binary = np.array(y_test_binary)\n",
    "X_test_binary = np.array(X_test_binary)\n",
    "print(X_train_binary.shape, y_train_binary.shape)\n",
    "print(X_test_binary.shape, y_test_binary.shape)"
   ]
  },
  {
   "cell_type": "markdown",
   "metadata": {},
   "source": [
    "# Running ML Algos"
   ]
  },
  {
   "cell_type": "code",
   "execution_count": 11,
   "metadata": {},
   "outputs": [],
   "source": [
    "# # Feature extraction - Sentiment Analysis using bag-of-words approach # https://core.ac.uk/download/pdf/230446749.pdf page 16\n",
    "# positive_ngrams = ['positive', 'buy', 'bull', 'boost','high','bullish','gain']\n",
    "# negative_ngrams = ['negative', 'loss', 'drop', 'plummet', 'sell', 'bearish', 'bear']\n",
    "# combined_ngrams = positive_ngrams + negative_ngrams\n",
    "# vectorizer = CountVectorizer()\n",
    "# X = vectorizer.fit_transform([positive_ngrams,negative_ngrams])"
   ]
  },
  {
   "cell_type": "markdown",
   "metadata": {},
   "source": [
    "## SVM"
   ]
  },
  {
   "cell_type": "markdown",
   "metadata": {},
   "source": [
    "#### SVM Grid Search"
   ]
  },
  {
   "cell_type": "code",
   "execution_count": 53,
   "metadata": {},
   "outputs": [
    {
     "name": "stdout",
     "output_type": "stream",
     "text": [
      "GridSearchCV(estimator=SVC(random_state=42),\n",
      "             param_grid={'C': [0.001, 0.01, 0.1, 1, 10, 50, 100],\n",
      "                         'gamma': [0.001, 0.01, 0.1, 0.5, 1, 10]})\n",
      "best_score:0.7600567251746325\n",
      "best_estimator:SVC(C=10, gamma=1, random_state=42)\n"
     ]
    }
   ],
   "source": [
    "# very long run times\n",
    "# parameters = {'C': [1, 10], \n",
    "#           'gamma': [0.001, 0.01, 1]}\n",
    "\n",
    "parameters = {'C': [0.001, 0.01, 0.1, 1, 10, 50, 100], \n",
    "              'gamma': [0.001, 0.01, 0.1, 0.5, 1, 10]}\n",
    "\n",
    "model = SVC(random_state = 42)\n",
    "grid = GridSearchCV(estimator=model, param_grid=parameters)\n",
    "grid.fit(X_train_binary, y_train_binary)\n",
    "\n",
    "print(grid)\n",
    "# summarize the results of the grid search\n",
    "print(\"best_score:%s\" %grid.best_score_)\n",
    "print(\"best_estimator:%s\"%grid.best_estimator_)"
   ]
  },
  {
   "cell_type": "markdown",
   "metadata": {},
   "source": [
    "#### SVM Best Model"
   ]
  },
  {
   "cell_type": "code",
   "execution_count": 62,
   "metadata": {},
   "outputs": [
    {
     "name": "stdout",
     "output_type": "stream",
     "text": [
      "accuracy 0.878\n",
      "              precision    recall  f1-score   support\n",
      "\n",
      "           0       0.89      0.86      0.88       842\n",
      "           1       0.87      0.89      0.88       844\n",
      "\n",
      "    accuracy                           0.88      1686\n",
      "   macro avg       0.88      0.88      0.88      1686\n",
      "weighted avg       0.88      0.88      0.88      1686\n",
      "\n"
     ]
    }
   ],
   "source": [
    "# very long run times\n",
    "clf = SVC(C=50, gamma=1, random_state=42).fit(X_train_binary, y_train_binary)\n",
    "y_pred = clf.predict(X_test_binary)\n",
    "print(\"accuracy\", round(accuracy_score(y_test_binary, y_pred),3))\n",
    "print(classification_report(y_test_binary, y_pred))"
   ]
  },
  {
   "cell_type": "markdown",
   "metadata": {},
   "source": [
    "## Other models"
   ]
  },
  {
   "cell_type": "code",
   "execution_count": 63,
   "metadata": {},
   "outputs": [],
   "source": [
    "def RunTextClfModels_v2(gvModelNames, gvModels, gX_all, gy_all, ginFolds=3):\n",
    "    ''' Get a list of models, data matrix X, target vector Y, and # of folds k\n",
    "    Return [\"RMSE\", \"R2\", \"MAE\"] values (all values, averaged over k folds)\n",
    "    '''\n",
    "\n",
    "    print(\"RunTextClfModels_v2()\")\n",
    "\n",
    "    t_vMeasures = [\"accuracy\", \"f1-score\", \"tr_time\"]\n",
    "    kfold_list = [\"fold\" + str(i) for i in list(range(ginFolds))] \n",
    "\n",
    "    # initialize the output dictionary\n",
    "    output = dict((i,{}) for i in gvModelNames)\n",
    "    for i in output:\n",
    "        output[i] = dict((k,[]) for k in kfold_list)\n",
    "        for k in output[i]:\n",
    "            output[i][k] = dict((j,[]) for j in t_vMeasures)\n",
    "    \n",
    "    kf = KFold(n_splits = ginFolds)\n",
    "    ctr = 0\n",
    "    for train_index, test_index in kf.split(gX_all):\n",
    "        \n",
    "        # print(\"train_index:%s, test_index:%s\" %(list(train_index), list(test_index)))\n",
    "\n",
    "        print(\"--- start fold %d\" %(ctr))\n",
    "    \n",
    "        # train/test split for k-fold cross-validation\n",
    "        # X_train, X_test = gX_all.iloc[train_index], gX_all.iloc[test_index]\n",
    "        # y_train, y_test = gy_all.iloc[train_index], gy_all.iloc[test_index]\n",
    "        \n",
    "        X_train, X_test = gX_all[train_index], gX_all[test_index]\n",
    "        y_train, y_test = gy_all[train_index], gy_all[test_index]\n",
    "    \n",
    "        for index, value in enumerate(gvModelNames):\n",
    "            \n",
    "            print(\"--->>> start model %s\" %(value))\n",
    "            \n",
    "            # model training/prediction\n",
    "            start = datetime.now()\n",
    "            model = gvModels[index]\n",
    "            model.fit(X_train,y_train)\n",
    "            y_pred = model.predict(X_test)\n",
    "    \n",
    "            # store the model outcomes\n",
    "            output[value][\"fold\"+str(ctr)][\"accuracy\"] = np.round(accuracy_score(y_test, y_pred),3)\n",
    "            output[value][\"fold\"+str(ctr)][\"f1-score\"] = np.round(f1_score(y_test, y_pred, average='weighted'),3)\n",
    "            output[value][\"fold\"+str(ctr)][\"tr_time\"] = np.round((datetime.now()-start).total_seconds(),3)\n",
    "        ctr = ctr + 1\n",
    "    \n",
    "    return output"
   ]
  },
  {
   "cell_type": "code",
   "execution_count": 64,
   "metadata": {},
   "outputs": [
    {
     "name": "stdout",
     "output_type": "stream",
     "text": [
      "RunTextClfModels_v2()\n",
      "--- start fold 0\n",
      "--->>> start model SVC\n",
      "--->>> start model MNB\n",
      "--->>> start model LogR\n"
     ]
    },
    {
     "name": "stderr",
     "output_type": "stream",
     "text": [
      "C:\\ProgramData\\Anaconda3\\lib\\site-packages\\sklearn\\linear_model\\_logistic.py:814: ConvergenceWarning: lbfgs failed to converge (status=1):\n",
      "STOP: TOTAL NO. of ITERATIONS REACHED LIMIT.\n",
      "\n",
      "Increase the number of iterations (max_iter) or scale the data as shown in:\n",
      "    https://scikit-learn.org/stable/modules/preprocessing.html\n",
      "Please also refer to the documentation for alternative solver options:\n",
      "    https://scikit-learn.org/stable/modules/linear_model.html#logistic-regression\n",
      "  n_iter_i = _check_optimize_result(\n"
     ]
    },
    {
     "name": "stdout",
     "output_type": "stream",
     "text": [
      "--->>> start model RF\n",
      "--->>> start model SGD\n",
      "--->>> start model MLP\n",
      "--- start fold 1\n",
      "--->>> start model SVC\n",
      "--->>> start model MNB\n",
      "--->>> start model LogR\n"
     ]
    },
    {
     "name": "stderr",
     "output_type": "stream",
     "text": [
      "C:\\ProgramData\\Anaconda3\\lib\\site-packages\\sklearn\\linear_model\\_logistic.py:814: ConvergenceWarning: lbfgs failed to converge (status=1):\n",
      "STOP: TOTAL NO. of ITERATIONS REACHED LIMIT.\n",
      "\n",
      "Increase the number of iterations (max_iter) or scale the data as shown in:\n",
      "    https://scikit-learn.org/stable/modules/preprocessing.html\n",
      "Please also refer to the documentation for alternative solver options:\n",
      "    https://scikit-learn.org/stable/modules/linear_model.html#logistic-regression\n",
      "  n_iter_i = _check_optimize_result(\n"
     ]
    },
    {
     "name": "stdout",
     "output_type": "stream",
     "text": [
      "--->>> start model RF\n",
      "--->>> start model SGD\n",
      "--->>> start model MLP\n",
      "--- start fold 2\n",
      "--->>> start model SVC\n",
      "--->>> start model MNB\n",
      "--->>> start model LogR\n"
     ]
    },
    {
     "name": "stderr",
     "output_type": "stream",
     "text": [
      "C:\\ProgramData\\Anaconda3\\lib\\site-packages\\sklearn\\linear_model\\_logistic.py:814: ConvergenceWarning: lbfgs failed to converge (status=1):\n",
      "STOP: TOTAL NO. of ITERATIONS REACHED LIMIT.\n",
      "\n",
      "Increase the number of iterations (max_iter) or scale the data as shown in:\n",
      "    https://scikit-learn.org/stable/modules/preprocessing.html\n",
      "Please also refer to the documentation for alternative solver options:\n",
      "    https://scikit-learn.org/stable/modules/linear_model.html#logistic-regression\n",
      "  n_iter_i = _check_optimize_result(\n"
     ]
    },
    {
     "name": "stdout",
     "output_type": "stream",
     "text": [
      "--->>> start model RF\n",
      "--->>> start model SGD\n",
      "--->>> start model MLP\n",
      "--- start fold 3\n",
      "--->>> start model SVC\n",
      "--->>> start model MNB\n",
      "--->>> start model LogR\n"
     ]
    },
    {
     "name": "stderr",
     "output_type": "stream",
     "text": [
      "C:\\ProgramData\\Anaconda3\\lib\\site-packages\\sklearn\\linear_model\\_logistic.py:814: ConvergenceWarning: lbfgs failed to converge (status=1):\n",
      "STOP: TOTAL NO. of ITERATIONS REACHED LIMIT.\n",
      "\n",
      "Increase the number of iterations (max_iter) or scale the data as shown in:\n",
      "    https://scikit-learn.org/stable/modules/preprocessing.html\n",
      "Please also refer to the documentation for alternative solver options:\n",
      "    https://scikit-learn.org/stable/modules/linear_model.html#logistic-regression\n",
      "  n_iter_i = _check_optimize_result(\n"
     ]
    },
    {
     "name": "stdout",
     "output_type": "stream",
     "text": [
      "--->>> start model RF\n",
      "--->>> start model SGD\n",
      "--->>> start model MLP\n",
      "--- start fold 4\n",
      "--->>> start model SVC\n",
      "--->>> start model MNB\n",
      "--->>> start model LogR\n"
     ]
    },
    {
     "name": "stderr",
     "output_type": "stream",
     "text": [
      "C:\\ProgramData\\Anaconda3\\lib\\site-packages\\sklearn\\linear_model\\_logistic.py:814: ConvergenceWarning: lbfgs failed to converge (status=1):\n",
      "STOP: TOTAL NO. of ITERATIONS REACHED LIMIT.\n",
      "\n",
      "Increase the number of iterations (max_iter) or scale the data as shown in:\n",
      "    https://scikit-learn.org/stable/modules/preprocessing.html\n",
      "Please also refer to the documentation for alternative solver options:\n",
      "    https://scikit-learn.org/stable/modules/linear_model.html#logistic-regression\n",
      "  n_iter_i = _check_optimize_result(\n"
     ]
    },
    {
     "name": "stdout",
     "output_type": "stream",
     "text": [
      "--->>> start model RF\n",
      "--->>> start model SGD\n",
      "--->>> start model MLP\n"
     ]
    },
    {
     "data": {
      "text/html": [
       "<div>\n",
       "<style scoped>\n",
       "    .dataframe tbody tr th:only-of-type {\n",
       "        vertical-align: middle;\n",
       "    }\n",
       "\n",
       "    .dataframe tbody tr th {\n",
       "        vertical-align: top;\n",
       "    }\n",
       "\n",
       "    .dataframe thead th {\n",
       "        text-align: right;\n",
       "    }\n",
       "</style>\n",
       "<table border=\"1\" class=\"dataframe\">\n",
       "  <thead>\n",
       "    <tr style=\"text-align: right;\">\n",
       "      <th></th>\n",
       "      <th>Model</th>\n",
       "      <th>Fold</th>\n",
       "      <th>accuracy</th>\n",
       "      <th>f1-score</th>\n",
       "      <th>tr_time</th>\n",
       "    </tr>\n",
       "  </thead>\n",
       "  <tbody>\n",
       "    <tr>\n",
       "      <th>0</th>\n",
       "      <td>SVC</td>\n",
       "      <td>fold0</td>\n",
       "      <td>0.858</td>\n",
       "      <td>0.858</td>\n",
       "      <td>335.216</td>\n",
       "    </tr>\n",
       "    <tr>\n",
       "      <th>1</th>\n",
       "      <td>SVC</td>\n",
       "      <td>fold1</td>\n",
       "      <td>0.858</td>\n",
       "      <td>0.859</td>\n",
       "      <td>282.193</td>\n",
       "    </tr>\n",
       "    <tr>\n",
       "      <th>2</th>\n",
       "      <td>SVC</td>\n",
       "      <td>fold2</td>\n",
       "      <td>0.862</td>\n",
       "      <td>0.863</td>\n",
       "      <td>216.976</td>\n",
       "    </tr>\n",
       "    <tr>\n",
       "      <th>3</th>\n",
       "      <td>SVC</td>\n",
       "      <td>fold3</td>\n",
       "      <td>0.864</td>\n",
       "      <td>0.864</td>\n",
       "      <td>323.912</td>\n",
       "    </tr>\n",
       "    <tr>\n",
       "      <th>4</th>\n",
       "      <td>SVC</td>\n",
       "      <td>fold4</td>\n",
       "      <td>1.000</td>\n",
       "      <td>1.000</td>\n",
       "      <td>379.395</td>\n",
       "    </tr>\n",
       "    <tr>\n",
       "      <th>5</th>\n",
       "      <td>MNB</td>\n",
       "      <td>fold0</td>\n",
       "      <td>0.756</td>\n",
       "      <td>0.760</td>\n",
       "      <td>0.217</td>\n",
       "    </tr>\n",
       "    <tr>\n",
       "      <th>6</th>\n",
       "      <td>MNB</td>\n",
       "      <td>fold1</td>\n",
       "      <td>0.745</td>\n",
       "      <td>0.750</td>\n",
       "      <td>0.176</td>\n",
       "    </tr>\n",
       "    <tr>\n",
       "      <th>7</th>\n",
       "      <td>MNB</td>\n",
       "      <td>fold2</td>\n",
       "      <td>0.732</td>\n",
       "      <td>0.739</td>\n",
       "      <td>0.159</td>\n",
       "    </tr>\n",
       "    <tr>\n",
       "      <th>8</th>\n",
       "      <td>MNB</td>\n",
       "      <td>fold3</td>\n",
       "      <td>0.765</td>\n",
       "      <td>0.766</td>\n",
       "      <td>0.336</td>\n",
       "    </tr>\n",
       "    <tr>\n",
       "      <th>9</th>\n",
       "      <td>MNB</td>\n",
       "      <td>fold4</td>\n",
       "      <td>0.561</td>\n",
       "      <td>0.719</td>\n",
       "      <td>0.240</td>\n",
       "    </tr>\n",
       "    <tr>\n",
       "      <th>10</th>\n",
       "      <td>LogR</td>\n",
       "      <td>fold0</td>\n",
       "      <td>0.805</td>\n",
       "      <td>0.808</td>\n",
       "      <td>4.011</td>\n",
       "    </tr>\n",
       "    <tr>\n",
       "      <th>11</th>\n",
       "      <td>LogR</td>\n",
       "      <td>fold1</td>\n",
       "      <td>0.796</td>\n",
       "      <td>0.799</td>\n",
       "      <td>3.352</td>\n",
       "    </tr>\n",
       "    <tr>\n",
       "      <th>12</th>\n",
       "      <td>LogR</td>\n",
       "      <td>fold2</td>\n",
       "      <td>0.798</td>\n",
       "      <td>0.802</td>\n",
       "      <td>3.072</td>\n",
       "    </tr>\n",
       "    <tr>\n",
       "      <th>13</th>\n",
       "      <td>LogR</td>\n",
       "      <td>fold3</td>\n",
       "      <td>0.785</td>\n",
       "      <td>0.786</td>\n",
       "      <td>5.128</td>\n",
       "    </tr>\n",
       "    <tr>\n",
       "      <th>14</th>\n",
       "      <td>LogR</td>\n",
       "      <td>fold4</td>\n",
       "      <td>0.999</td>\n",
       "      <td>0.999</td>\n",
       "      <td>5.067</td>\n",
       "    </tr>\n",
       "    <tr>\n",
       "      <th>15</th>\n",
       "      <td>RF</td>\n",
       "      <td>fold0</td>\n",
       "      <td>0.797</td>\n",
       "      <td>0.796</td>\n",
       "      <td>55.256</td>\n",
       "    </tr>\n",
       "    <tr>\n",
       "      <th>16</th>\n",
       "      <td>RF</td>\n",
       "      <td>fold1</td>\n",
       "      <td>0.773</td>\n",
       "      <td>0.774</td>\n",
       "      <td>39.515</td>\n",
       "    </tr>\n",
       "    <tr>\n",
       "      <th>17</th>\n",
       "      <td>RF</td>\n",
       "      <td>fold2</td>\n",
       "      <td>0.798</td>\n",
       "      <td>0.800</td>\n",
       "      <td>32.438</td>\n",
       "    </tr>\n",
       "    <tr>\n",
       "      <th>18</th>\n",
       "      <td>RF</td>\n",
       "      <td>fold3</td>\n",
       "      <td>0.814</td>\n",
       "      <td>0.815</td>\n",
       "      <td>106.546</td>\n",
       "    </tr>\n",
       "    <tr>\n",
       "      <th>19</th>\n",
       "      <td>RF</td>\n",
       "      <td>fold4</td>\n",
       "      <td>0.935</td>\n",
       "      <td>0.966</td>\n",
       "      <td>199.797</td>\n",
       "    </tr>\n",
       "    <tr>\n",
       "      <th>20</th>\n",
       "      <td>SGD</td>\n",
       "      <td>fold0</td>\n",
       "      <td>0.761</td>\n",
       "      <td>0.764</td>\n",
       "      <td>0.738</td>\n",
       "    </tr>\n",
       "    <tr>\n",
       "      <th>21</th>\n",
       "      <td>SGD</td>\n",
       "      <td>fold1</td>\n",
       "      <td>0.757</td>\n",
       "      <td>0.756</td>\n",
       "      <td>0.712</td>\n",
       "    </tr>\n",
       "    <tr>\n",
       "      <th>22</th>\n",
       "      <td>SGD</td>\n",
       "      <td>fold2</td>\n",
       "      <td>0.764</td>\n",
       "      <td>0.769</td>\n",
       "      <td>0.666</td>\n",
       "    </tr>\n",
       "    <tr>\n",
       "      <th>23</th>\n",
       "      <td>SGD</td>\n",
       "      <td>fold3</td>\n",
       "      <td>0.770</td>\n",
       "      <td>0.769</td>\n",
       "      <td>1.278</td>\n",
       "    </tr>\n",
       "    <tr>\n",
       "      <th>24</th>\n",
       "      <td>SGD</td>\n",
       "      <td>fold4</td>\n",
       "      <td>0.421</td>\n",
       "      <td>0.593</td>\n",
       "      <td>1.380</td>\n",
       "    </tr>\n",
       "    <tr>\n",
       "      <th>25</th>\n",
       "      <td>MLP</td>\n",
       "      <td>fold0</td>\n",
       "      <td>0.810</td>\n",
       "      <td>0.812</td>\n",
       "      <td>267.546</td>\n",
       "    </tr>\n",
       "    <tr>\n",
       "      <th>26</th>\n",
       "      <td>MLP</td>\n",
       "      <td>fold1</td>\n",
       "      <td>0.805</td>\n",
       "      <td>0.807</td>\n",
       "      <td>158.551</td>\n",
       "    </tr>\n",
       "    <tr>\n",
       "      <th>27</th>\n",
       "      <td>MLP</td>\n",
       "      <td>fold2</td>\n",
       "      <td>0.802</td>\n",
       "      <td>0.806</td>\n",
       "      <td>188.147</td>\n",
       "    </tr>\n",
       "    <tr>\n",
       "      <th>28</th>\n",
       "      <td>MLP</td>\n",
       "      <td>fold3</td>\n",
       "      <td>0.791</td>\n",
       "      <td>0.792</td>\n",
       "      <td>390.366</td>\n",
       "    </tr>\n",
       "    <tr>\n",
       "      <th>29</th>\n",
       "      <td>MLP</td>\n",
       "      <td>fold4</td>\n",
       "      <td>0.999</td>\n",
       "      <td>1.000</td>\n",
       "      <td>393.803</td>\n",
       "    </tr>\n",
       "  </tbody>\n",
       "</table>\n",
       "</div>"
      ],
      "text/plain": [
       "   Model   Fold  accuracy  f1-score  tr_time\n",
       "0    SVC  fold0     0.858     0.858  335.216\n",
       "1    SVC  fold1     0.858     0.859  282.193\n",
       "2    SVC  fold2     0.862     0.863  216.976\n",
       "3    SVC  fold3     0.864     0.864  323.912\n",
       "4    SVC  fold4     1.000     1.000  379.395\n",
       "5    MNB  fold0     0.756     0.760    0.217\n",
       "6    MNB  fold1     0.745     0.750    0.176\n",
       "7    MNB  fold2     0.732     0.739    0.159\n",
       "8    MNB  fold3     0.765     0.766    0.336\n",
       "9    MNB  fold4     0.561     0.719    0.240\n",
       "10  LogR  fold0     0.805     0.808    4.011\n",
       "11  LogR  fold1     0.796     0.799    3.352\n",
       "12  LogR  fold2     0.798     0.802    3.072\n",
       "13  LogR  fold3     0.785     0.786    5.128\n",
       "14  LogR  fold4     0.999     0.999    5.067\n",
       "15    RF  fold0     0.797     0.796   55.256\n",
       "16    RF  fold1     0.773     0.774   39.515\n",
       "17    RF  fold2     0.798     0.800   32.438\n",
       "18    RF  fold3     0.814     0.815  106.546\n",
       "19    RF  fold4     0.935     0.966  199.797\n",
       "20   SGD  fold0     0.761     0.764    0.738\n",
       "21   SGD  fold1     0.757     0.756    0.712\n",
       "22   SGD  fold2     0.764     0.769    0.666\n",
       "23   SGD  fold3     0.770     0.769    1.278\n",
       "24   SGD  fold4     0.421     0.593    1.380\n",
       "25   MLP  fold0     0.810     0.812  267.546\n",
       "26   MLP  fold1     0.805     0.807  158.551\n",
       "27   MLP  fold2     0.802     0.806  188.147\n",
       "28   MLP  fold3     0.791     0.792  390.366\n",
       "29   MLP  fold4     0.999     1.000  393.803"
      ]
     },
     "execution_count": 64,
     "metadata": {},
     "output_type": "execute_result"
    }
   ],
   "source": [
    "model_names = [\"SVC\", \"MNB\", \"LogR\", \"RF\", \"SGD\", \"MLP\"]\n",
    "model_lib = [SVC(C=50, gamma=1, random_state=42), # modified \n",
    "             MultinomialNB(), \n",
    "             LogisticRegression(n_jobs=1, C=1e5), \n",
    "             RandomForestClassifier(random_state = 42), \n",
    "             SGDClassifier(loss='hinge', penalty='l2',alpha=1e-3, random_state=42, max_iter=5, tol=None),\n",
    "             MLPClassifier(random_state=42, max_iter=300)]\n",
    "\n",
    "dic_ress = RunTextClfModels_v2(model_names, model_lib, X_all_binary, np.array(y), ginFolds=5)\n",
    "# print(dic_ress)\n",
    "\n",
    "pd_ress_bin = pd.DataFrame({(level1_key, level2_key): values\n",
    "for level1_key, level2_dict in dic_ress.items()\n",
    "for level2_key, values in level2_dict.items()}).T\n",
    "\n",
    "pd_ress_bin = pd_ress_bin.reset_index()\n",
    "pd_ress_bin.rename(columns={'level_0': 'Model', 'level_1': 'Fold'}, inplace=True)\n",
    "pd_ress_bin"
   ]
  },
  {
   "cell_type": "code",
   "execution_count": 65,
   "metadata": {},
   "outputs": [
    {
     "name": "stderr",
     "output_type": "stream",
     "text": [
      "C:\\ProgramData\\Anaconda3\\lib\\site-packages\\numpy\\core\\fromnumeric.py:3558: FutureWarning: Dropping of nuisance columns in DataFrame reductions (with 'numeric_only=None') is deprecated; in a future version this will raise TypeError.  Select only valid columns before calling the reduction.\n",
      "  return std(axis=axis, dtype=dtype, out=out, ddof=ddof, **kwargs)\n"
     ]
    },
    {
     "data": {
      "text/html": [
       "<div>\n",
       "<style scoped>\n",
       "    .dataframe tbody tr th:only-of-type {\n",
       "        vertical-align: middle;\n",
       "    }\n",
       "\n",
       "    .dataframe tbody tr th {\n",
       "        vertical-align: top;\n",
       "    }\n",
       "\n",
       "    .dataframe thead th {\n",
       "        text-align: right;\n",
       "    }\n",
       "</style>\n",
       "<table border=\"1\" class=\"dataframe\">\n",
       "  <thead>\n",
       "    <tr style=\"text-align: right;\">\n",
       "      <th></th>\n",
       "      <th>Model</th>\n",
       "      <th>accuracy</th>\n",
       "      <th>accuracy-std</th>\n",
       "      <th>f1-score</th>\n",
       "      <th>f1-score-std</th>\n",
       "      <th>tr_time</th>\n",
       "      <th>tr_time-std</th>\n",
       "    </tr>\n",
       "  </thead>\n",
       "  <tbody>\n",
       "    <tr>\n",
       "      <th>0</th>\n",
       "      <td>LogR</td>\n",
       "      <td>0.837</td>\n",
       "      <td>0.081</td>\n",
       "      <td>0.839</td>\n",
       "      <td>0.08</td>\n",
       "      <td>4.126</td>\n",
       "      <td>0.85</td>\n",
       "    </tr>\n",
       "    <tr>\n",
       "      <th>1</th>\n",
       "      <td>MLP</td>\n",
       "      <td>0.841</td>\n",
       "      <td>0.079</td>\n",
       "      <td>0.843</td>\n",
       "      <td>0.079</td>\n",
       "      <td>279.683</td>\n",
       "      <td>98.461</td>\n",
       "    </tr>\n",
       "    <tr>\n",
       "      <th>2</th>\n",
       "      <td>MNB</td>\n",
       "      <td>0.712</td>\n",
       "      <td>0.076</td>\n",
       "      <td>0.747</td>\n",
       "      <td>0.017</td>\n",
       "      <td>0.226</td>\n",
       "      <td>0.062</td>\n",
       "    </tr>\n",
       "    <tr>\n",
       "      <th>3</th>\n",
       "      <td>RF</td>\n",
       "      <td>0.823</td>\n",
       "      <td>0.057</td>\n",
       "      <td>0.83</td>\n",
       "      <td>0.069</td>\n",
       "      <td>86.71</td>\n",
       "      <td>62.2</td>\n",
       "    </tr>\n",
       "    <tr>\n",
       "      <th>4</th>\n",
       "      <td>SGD</td>\n",
       "      <td>0.695</td>\n",
       "      <td>0.137</td>\n",
       "      <td>0.73</td>\n",
       "      <td>0.069</td>\n",
       "      <td>0.955</td>\n",
       "      <td>0.308</td>\n",
       "    </tr>\n",
       "    <tr>\n",
       "      <th>5</th>\n",
       "      <td>SVC</td>\n",
       "      <td>0.888</td>\n",
       "      <td>0.056</td>\n",
       "      <td>0.889</td>\n",
       "      <td>0.056</td>\n",
       "      <td>307.538</td>\n",
       "      <td>54.848</td>\n",
       "    </tr>\n",
       "  </tbody>\n",
       "</table>\n",
       "</div>"
      ],
      "text/plain": [
       "  Model accuracy accuracy-std f1-score f1-score-std  tr_time tr_time-std\n",
       "0  LogR    0.837        0.081    0.839         0.08    4.126        0.85\n",
       "1   MLP    0.841        0.079    0.843        0.079  279.683      98.461\n",
       "2   MNB    0.712        0.076    0.747        0.017    0.226       0.062\n",
       "3    RF    0.823        0.057     0.83        0.069    86.71        62.2\n",
       "4   SGD    0.695        0.137     0.73        0.069    0.955       0.308\n",
       "5   SVC    0.888        0.056    0.889        0.056  307.538      54.848"
      ]
     },
     "execution_count": 65,
     "metadata": {},
     "output_type": "execute_result"
    }
   ],
   "source": [
    "pd_ress_avg = np.round(pd_ress_bin.groupby([\"Model\"], as_index=False).mean(),3)\n",
    "pd_ress_std = pd_ress_bin.groupby([\"Model\"], as_index=False).agg(np.std, ddof=0).round(3).drop(\"Fold\", axis=1)\n",
    "pd_ress_std.rename(columns={'accuracy': 'accuracy-std', 'f1-score': 'f1-score-std','tr_time': 'tr_time-std'}, inplace=True)\n",
    "\n",
    "pd_ress_summary = pd.concat([pd_ress_avg, pd_ress_std], axis = 1).T.drop_duplicates().T.sort_index(axis=1, ascending=True)\n",
    "pd_ress_summary"
   ]
  },
  {
   "cell_type": "markdown",
   "metadata": {},
   "source": [
    "# Deep Learning"
   ]
  },
  {
   "cell_type": "code",
   "execution_count": 85,
   "metadata": {},
   "outputs": [
    {
     "name": "stdout",
     "output_type": "stream",
     "text": [
      "SMOTE oversamples dataset shape Counter({0: 4213, 1: 4213})\n",
      "X_res.shape (8426, 300)\n"
     ]
    }
   ],
   "source": [
    "from keras import preprocessing, layers, Sequential\n",
    "from keras.layers import Embedding, Flatten, Dense, LSTM, Bidirectional\n",
    "from keras.preprocessing.text import Tokenizer\n",
    "\n",
    "X = df_new['text']\n",
    "y = [int(x) for x in df_new['sentiment']]\n",
    "\n",
    "max_features = 10000\n",
    "maxlen = 300\n",
    "\n",
    "tokenizer=Tokenizer(num_words=max_features)\n",
    "tokenizer.fit_on_texts(X)\n",
    "encoded_docs = tokenizer.texts_to_sequences(X)\n",
    "\n",
    "encoded_docs = preprocessing.sequence.pad_sequences(encoded_docs,maxlen=maxlen)\n",
    "\n",
    "smote = SMOTE(random_state=42)\n",
    "X_res, y_res = smote.fit_resample(encoded_docs, y)\n",
    "print('SMOTE oversamples dataset shape %s' % Counter(y_res))\n",
    "print(\"X_res.shape\", X_res.shape)\n",
    "\n",
    "x_train,x_test,y_train,y_test = train_test_split(X_res, y_res, test_size = 0.2, random_state = 42)"
   ]
  },
  {
   "cell_type": "markdown",
   "metadata": {},
   "source": [
    "### Bidirectional RNN"
   ]
  },
  {
   "cell_type": "code",
   "execution_count": 92,
   "metadata": {},
   "outputs": [
    {
     "name": "stdout",
     "output_type": "stream",
     "text": [
      "Epoch 1/10\n",
      "43/43 [==============================] - 11s 218ms/step - loss: 0.6858 - accuracy: 0.5640 - val_loss: 0.6925 - val_accuracy: 0.5312\n",
      "Epoch 2/10\n",
      "43/43 [==============================] - 11s 267ms/step - loss: 0.6275 - accuracy: 0.6751 - val_loss: 0.6276 - val_accuracy: 0.6810\n",
      "Epoch 3/10\n",
      "43/43 [==============================] - 11s 264ms/step - loss: 0.5526 - accuracy: 0.7533 - val_loss: 0.6327 - val_accuracy: 0.6343\n",
      "Epoch 4/10\n",
      "43/43 [==============================] - 12s 286ms/step - loss: 0.4862 - accuracy: 0.7932 - val_loss: 0.6770 - val_accuracy: 0.6387\n",
      "Epoch 5/10\n",
      "43/43 [==============================] - 13s 299ms/step - loss: 0.4444 - accuracy: 0.8134 - val_loss: 0.6328 - val_accuracy: 0.6766\n",
      "Epoch 6/10\n",
      "43/43 [==============================] - 13s 302ms/step - loss: 0.3767 - accuracy: 0.8457 - val_loss: 0.6432 - val_accuracy: 0.6758\n",
      "Epoch 7/10\n",
      "43/43 [==============================] - 13s 298ms/step - loss: 0.3272 - accuracy: 0.8657 - val_loss: 0.6578 - val_accuracy: 0.6632\n",
      "Epoch 8/10\n",
      "43/43 [==============================] - 13s 301ms/step - loss: 0.2917 - accuracy: 0.8815 - val_loss: 0.6775 - val_accuracy: 0.6610\n",
      "Epoch 9/10\n",
      "43/43 [==============================] - 13s 306ms/step - loss: 0.2578 - accuracy: 0.8978 - val_loss: 0.7761 - val_accuracy: 0.6610\n",
      "Epoch 10/10\n",
      "43/43 [==============================] - 13s 307ms/step - loss: 0.2410 - accuracy: 0.9043 - val_loss: 0.9352 - val_accuracy: 0.6313\n",
      "53/53 [==============================] - 2s 29ms/step - loss: 0.9037 - accuracy: 0.6542\n"
     ]
    },
    {
     "data": {
      "text/plain": [
       "[0.9037237167358398, 0.654211163520813]"
      ]
     },
     "execution_count": 92,
     "metadata": {},
     "output_type": "execute_result"
    }
   ],
   "source": [
    "model = Sequential()\n",
    "model.add(Embedding(max_features, 32))\n",
    "model.add(Bidirectional(LSTM(32)))\n",
    "model.add(Dense(1, activation='sigmoid'))\n",
    "\n",
    "model.compile(optimizer='rmsprop', loss='binary_crossentropy', metrics=['accuracy'])\n",
    "history = model.fit(np.array(x_train), np.array(y_train), epochs=10, batch_size=128, validation_split=0.2)\n",
    "model.summary()"
   ]
  },
  {
   "cell_type": "code",
   "execution_count": 93,
   "metadata": {},
   "outputs": [
    {
     "name": "stdout",
     "output_type": "stream",
     "text": [
      "dict_keys(['loss', 'accuracy', 'val_loss', 'val_accuracy'])\n"
     ]
    },
    {
     "data": {
      "image/png": "[encoded data removed]",
      "text/plain": [
       "<Figure size 576x432 with 1 Axes>"
      ]
     },
     "metadata": {
      "needs_background": "light"
     },
     "output_type": "display_data"
    },
    {
     "data": {
      "image/png": "[encoded data removed]",
      "text/plain": [
       "<Figure size 576x432 with 1 Axes>"
      ]
     },
     "metadata": {
      "needs_background": "light"
     },
     "output_type": "display_data"
    }
   ],
   "source": [
    "print(history.history.keys())\n",
    "acc = history.history['accuracy']\n",
    "val_acc = history.history['val_accuracy']\n",
    "loss = history.history['loss']\n",
    "val_loss = history.history['val_loss']\n",
    " \n",
    "epochs = range(1, len(acc) + 1)\n",
    " \n",
    "plt.plot(epochs, acc, 'bo', label='Training acc')\n",
    "plt.plot(epochs, val_acc, 'b', label='Validation acc')\n",
    "plt.title('Training and validation accuracy')\n",
    "plt.legend()\n",
    " \n",
    "plt.figure()\n",
    " \n",
    "plt.plot(epochs, loss, 'bo', label='Training loss')\n",
    "plt.plot(epochs, val_loss, 'b', label='Validation loss')\n",
    "plt.title('Training and validation loss')\n",
    "plt.legend()\n",
    "plt.show()"
   ]
  },
  {
   "cell_type": "code",
   "execution_count": 94,
   "metadata": {},
   "outputs": [
    {
     "name": "stdout",
     "output_type": "stream",
     "text": [
      "Epoch 1/2\n",
      "43/43 [==============================] - 10s 194ms/step - loss: 0.6862 - accuracy: 0.5619 - val_loss: 0.6735 - val_accuracy: 0.5935\n",
      "Epoch 2/2\n",
      "43/43 [==============================] - 8s 185ms/step - loss: 0.6232 - accuracy: 0.6819 - val_loss: 0.6275 - val_accuracy: 0.6728\n",
      "53/53 [==============================] - 1s 16ms/step - loss: 0.6227 - accuracy: 0.6738\n",
      "test_loss: 0.623, test_acc: 0.674\n"
     ]
    }
   ],
   "source": [
    "# Retraining over results from above\n",
    "model = Sequential()\n",
    "model.add(Embedding(max_features, 32))\n",
    "model.add(Bidirectional(LSTM(32)))\n",
    "model.add(Dense(1, activation='sigmoid'))\n",
    "\n",
    "model.compile(optimizer='rmsprop', loss='binary_crossentropy', metrics=['accuracy'])\n",
    "history = model.fit(np.array(x_train), np.array(y_train), epochs=2, batch_size=128, validation_split=0.2)\n",
    "test_loss, test_acc = model.evaluate(np.array(x_test), np.array(y_test))\n",
    "print(\"test_loss: %s, test_acc: %s\" %(np.round(test_loss,3), np.round(test_acc,3)))"
   ]
  },
  {
   "cell_type": "markdown",
   "metadata": {},
   "source": [
    "### CNN"
   ]
  },
  {
   "cell_type": "code",
   "execution_count": 99,
   "metadata": {},
   "outputs": [
    {
     "name": "stdout",
     "output_type": "stream",
     "text": [
      "Model: \"sequential_8\"\n",
      "_________________________________________________________________\n",
      " Layer (type)                Output Shape              Param #   \n",
      "=================================================================\n",
      " embedding_8 (Embedding)     (None, 300, 128)          1280000   \n",
      "                                                                 \n",
      " conv1d_4 (Conv1D)           (None, 294, 32)           28704     \n",
      "                                                                 \n",
      " max_pooling1d_2 (MaxPooling  (None, 58, 32)           0         \n",
      " 1D)                                                             \n",
      "                                                                 \n",
      " conv1d_5 (Conv1D)           (None, 52, 32)            7200      \n",
      "                                                                 \n",
      " global_max_pooling1d_2 (Glo  (None, 32)               0         \n",
      " balMaxPooling1D)                                                \n",
      "                                                                 \n",
      " dense_8 (Dense)             (None, 1)                 33        \n",
      "                                                                 \n",
      "=================================================================\n",
      "Total params: 1,315,937\n",
      "Trainable params: 1,315,937\n",
      "Non-trainable params: 0\n",
      "_________________________________________________________________\n",
      "Epoch 1/10\n",
      "43/43 [==============================] - 3s 65ms/step - loss: 7.7468 - accuracy: 0.4978 - val_loss: 7.5637 - val_accuracy: 0.5096\n",
      "Epoch 2/10\n",
      "43/43 [==============================] - 3s 63ms/step - loss: 7.7468 - accuracy: 0.4978 - val_loss: 7.5637 - val_accuracy: 0.5096\n",
      "Epoch 3/10\n",
      "43/43 [==============================] - 3s 63ms/step - loss: 7.7468 - accuracy: 0.4978 - val_loss: 7.5637 - val_accuracy: 0.5096\n",
      "Epoch 4/10\n",
      "43/43 [==============================] - 3s 64ms/step - loss: 7.7468 - accuracy: 0.4978 - val_loss: 7.5637 - val_accuracy: 0.5096\n",
      "Epoch 5/10\n",
      "43/43 [==============================] - 3s 64ms/step - loss: 7.7468 - accuracy: 0.4978 - val_loss: 7.5637 - val_accuracy: 0.5096\n",
      "Epoch 6/10\n",
      "43/43 [==============================] - 3s 64ms/step - loss: 7.7468 - accuracy: 0.4978 - val_loss: 7.5637 - val_accuracy: 0.5096\n",
      "Epoch 7/10\n",
      "43/43 [==============================] - 3s 65ms/step - loss: 7.7468 - accuracy: 0.4978 - val_loss: 7.5637 - val_accuracy: 0.5096\n",
      "Epoch 8/10\n",
      "43/43 [==============================] - 3s 63ms/step - loss: 7.7468 - accuracy: 0.4978 - val_loss: 7.5637 - val_accuracy: 0.5096\n",
      "Epoch 9/10\n",
      "43/43 [==============================] - 3s 64ms/step - loss: 7.7468 - accuracy: 0.4978 - val_loss: 7.5637 - val_accuracy: 0.5096\n",
      "Epoch 10/10\n",
      "43/43 [==============================] - 3s 64ms/step - loss: 7.7468 - accuracy: 0.4978 - val_loss: 7.5637 - val_accuracy: 0.5096\n"
     ]
    }
   ],
   "source": [
    "from keras.optimizers import rmsprop_v2\n",
    "model = Sequential()\n",
    "model.add(layers.Embedding(max_features, 128, input_length=maxlen))\n",
    "model.add(layers.Conv1D(32, 7, activation='relu'))\n",
    "model.add(layers.MaxPooling1D(5))\n",
    "model.add(layers.Conv1D(32, 7, activation='relu'))\n",
    "model.add(layers.GlobalMaxPooling1D())\n",
    "model.add(layers.Dense(1))\n",
    "model.summary()\n",
    "model.compile(optimizer='rmsprop',loss='binary_crossentropy',metrics=['accuracy'])\n",
    "\n",
    "history = model.fit(np.array(x_train), np.array(y_train), epochs=10, batch_size=128, validation_split=0.2)"
   ]
  },
  {
   "cell_type": "code",
   "execution_count": 100,
   "metadata": {},
   "outputs": [
    {
     "name": "stdout",
     "output_type": "stream",
     "text": [
      "dict_keys(['loss', 'accuracy', 'val_loss', 'val_accuracy'])\n"
     ]
    },
    {
     "data": {
      "image/png": "[encoded data removed]",
      "text/plain": [
       "<Figure size 576x432 with 1 Axes>"
      ]
     },
     "metadata": {
      "needs_background": "light"
     },
     "output_type": "display_data"
    },
    {
     "data": {
      "image/png": "[encoded data removed]",
      "text/plain": [
       "<Figure size 576x432 with 1 Axes>"
      ]
     },
     "metadata": {
      "needs_background": "light"
     },
     "output_type": "display_data"
    }
   ],
   "source": [
    "print(history.history.keys())\n",
    "acc = history.history['accuracy']\n",
    "val_acc = history.history['val_accuracy']\n",
    "loss = history.history['loss']\n",
    "val_loss = history.history['val_loss']\n",
    " \n",
    "epochs = range(1, len(acc) + 1)\n",
    " \n",
    "plt.plot(epochs, acc, 'bo', label='Training acc')\n",
    "plt.plot(epochs, val_acc, 'b', label='Validation acc')\n",
    "plt.title('Training and validation accuracy')\n",
    "plt.legend()\n",
    " \n",
    "plt.figure()\n",
    " \n",
    "plt.plot(epochs, loss, 'bo', label='Training loss')\n",
    "plt.plot(epochs, val_loss, 'b', label='Validation loss')\n",
    "plt.title('Training and validation loss')\n",
    "plt.legend()\n",
    "plt.show()"
   ]
  },
  {
   "cell_type": "code",
   "execution_count": null,
   "metadata": {},
   "outputs": [],
   "source": []
  },
  {
   "cell_type": "markdown",
   "metadata": {},
   "source": [
    "# Pre-Trained models"
   ]
  },
  {
   "cell_type": "code",
   "execution_count": 14,
   "metadata": {},
   "outputs": [
    {
     "name": "stdout",
     "output_type": "stream",
     "text": [
      "Accuracy:0.6085982070089649\n"
     ]
    }
   ],
   "source": [
    "from nltk.sentiment.vader import SentimentIntensityAnalyzer\n",
    "sid = SentimentIntensityAnalyzer()\n",
    "\n",
    "acc = 0\n",
    "for test_point, y_actual in zip(X,y):\n",
    "    score = sid.polarity_scores(test_point)[\"compound\"]\n",
    "    if((score >= 0 and int(y_actual) == 1) or (score < 0 and int(y_actual) == 0)):\n",
    "        acc += 1\n",
    "print(\"Accuracy:\" + str(acc/len(X)))\n",
    "    "
   ]
  },
  {
   "cell_type": "code",
   "execution_count": 15,
   "metadata": {},
   "outputs": [
    {
     "name": "stdout",
     "output_type": "stream",
     "text": [
      "Accuracy:0.539119804400978\n"
     ]
    }
   ],
   "source": [
    "from textblob import TextBlob\n",
    "\n",
    "acc = 0\n",
    "for test_point, y_actual in zip(X,y):\n",
    "    score = TextBlob(test_point).sentiment.polarity\n",
    "    if((score >= 0 and int(y_actual) == 1) or (score < 0 and int(y_actual) == 0)):\n",
    "        acc += 1\n",
    "print(\"Accuracy:\" + str(acc/len(X)))"
   ]
  },
  {
   "cell_type": "code",
   "execution_count": 16,
   "metadata": {},
   "outputs": [
    {
     "name": "stderr",
     "output_type": "stream",
     "text": [
      "C:\\ProgramData\\Anaconda3\\lib\\site-packages\\simpletransformers\\classification\\classification_model.py:1426: UserWarning: Dataframe headers not specified. Falling back to using column 0 as text and column 1 as labels.\n",
      "  warnings.warn(\n",
      "INFO:simpletransformers.classification.classification_utils: Converting to features started. Cache is not used.\n",
      "  0%|          | 10/4908 [00:07<1:04:17,  1.27it/s]\n",
      "INFO:simpletransformers.classification.classification_utils: Saving features into cached file cache_dir/cached_dev_xlnet_128_2_2\n",
      "Running Evaluation: 100%|██████████| 614/614 [19:34<00:00,  1.91s/it]\n",
      "INFO:simpletransformers.classification.classification_model:{'mcc': 0.8781966817184593, 'tp': 2293, 'tn': 2316, 'fp': 138, 'fn': 161, 'auroc': 0.9801103964121582, 'auprc': 0.9804586851324036, 'acc': 0.939079054604727, 'eval_loss': 0.17472003288991775}\n"
     ]
    },
    {
     "data": {
      "text/plain": [
       "{'mcc': 0.8781966817184593,\n",
       " 'tp': 2293,\n",
       " 'tn': 2316,\n",
       " 'fp': 138,\n",
       " 'fn': 161,\n",
       " 'auroc': 0.9801103964121582,\n",
       " 'auprc': 0.9804586851324036,\n",
       " 'acc': 0.939079054604727,\n",
       " 'eval_loss': 0.17472003288991775}"
      ]
     },
     "execution_count": 16,
     "metadata": {},
     "output_type": "execute_result"
    }
   ],
   "source": [
    "# Feature extraction - Sentiment Analysis using XLNet (https://medium.com/swlh/using-xlnet-for-sentiment-classification-cfa948e65e85)\n",
    "# Using trained model generated by Google Colab notebook\n",
    "\n",
    "# splitting the data into training and eval dataset\n",
    "eval_df = pd.DataFrame(X)\n",
    "eval_df['sentiment'] = y\n",
    "\n",
    "# logging\n",
    "logging.basicConfig(level=logging.INFO)\n",
    "transformers_logger = logging.getLogger(\"transformers\")\n",
    "transformers_logger.setLevel(logging.WARNING)\n",
    "\n",
    "# They are lot of arguments to play with\n",
    "'''\n",
    "args = {\n",
    "   'output_dir': 'outputs/',\n",
    "   'cache_dir': 'cache/',\n",
    "   'fp16': True,\n",
    "   'fp16_opt_level': 'O1',\n",
    "   'max_seq_length': 256,\n",
    "   'train_batch_size': 8,\n",
    "   'eval_batch_size': 8,\n",
    "   'gradient_accumulation_steps': 1,\n",
    "   'num_train_epochs': 3,\n",
    "   'weight_decay': 0,\n",
    "   'learning_rate': 4e-5,\n",
    "   'adam_epsilon': 1e-8,\n",
    "   'warmup_ratio': 0.06,\n",
    "   'warmup_steps': 0,\n",
    "   'max_grad_norm': 1.0,\n",
    "   'logging_steps': 50,\n",
    "   'evaluate_during_training': False,\n",
    "   'save_steps': 2000,\n",
    "   'eval_all_checkpoints': True,\n",
    "   'use_tensorboard': True,\n",
    "   'overwrite_output_dir': True,\n",
    "   'reprocess_input_data': False,\n",
    "}\n",
    "'''\n",
    "\n",
    "# Create a ClassificationModel\n",
    "model = ClassificationModel('xlnet', os.getcwd() +\"\\\\Data\\\\xlnet\\\\checkpoint-844-epoch-4\", args={'num_train_epochs':4, 'train_batch_size':32, 'max_seq_length':128},use_cuda=False) # You can set class weights by using the optional weight argument\n",
    "\n",
    "# Evaluate the model\n",
    "result, model_outputs, wrong_predictions = model.eval_model(eval_df, acc=sklearn.metrics.accuracy_score)\n",
    "result\n",
    "print(\"Warning: we're running training data back through\")"
   ]
  }
 ],
 "metadata": {
  "interpreter": {
   "hash": "b3ba2566441a7c06988d0923437866b63cedc61552a5af99d1f4fb67d367b25f"
  },
  "kernelspec": {
   "display_name": "Python 3.9.7 ('base')",
   "language": "python",
   "name": "python3"
  },
  "language_info": {
   "codemirror_mode": {
    "name": "ipython",
    "version": 3
   },
   "file_extension": ".py",
   "mimetype": "text/x-python",
   "name": "python",
   "nbconvert_exporter": "python",
   "pygments_lexer": "ipython3",
   "version": "3.9.7"
  },
  "orig_nbformat": 4
 },
 "nbformat": 4,
 "nbformat_minor": 2
}
