{
 "cells": [
  {
   "cell_type": "markdown",
   "metadata": {},
   "source": [
    "# Datasets"
   ]
  },
  {
   "cell_type": "markdown",
   "metadata": {},
   "source": [
    "## Stock tweets"
   ]
  },
  {
   "cell_type": "code",
   "execution_count": 1,
   "metadata": {},
   "outputs": [],
   "source": [
    "# Imports\n",
    "import pandas as pd\n",
    "import os\n",
    "import flair\n",
    "import torch\n",
    "import re\n",
    "import numpy as np\n",
    "import seaborn as sns\n",
    "import matplotlib.pyplot as plt\n",
    "from pylab import rcParams\n",
    "from sklearn.utils import shuffle\n",
    "from collections import Counter\n",
    "from imblearn.under_sampling import RandomUnderSampler\n",
    "from imblearn.over_sampling import RandomOverSampler\n",
    "from simpletransformers.classification import ClassificationModel\n",
    "import logging\n",
    "import sklearn\n",
    "from tqdm import tqdm\n",
    "tqdm.pandas(desc=\"progress-bar\")\n",
    "from datetime import datetime\n",
    "\n",
    "# sklearn libraries\n",
    "from sklearn.model_selection import train_test_split\n",
    "from sklearn import utils\n",
    "from sklearn.utils import resample # downsample etc\n",
    "\n",
    "from sklearn.metrics import accuracy_score, classification_report, f1_score\n",
    "from sklearn.model_selection import KFold,cross_val_score\n",
    "\n",
    "from sklearn.feature_extraction.text import TfidfTransformer\n",
    "from sklearn.feature_extraction.text import CountVectorizer\n",
    "from sklearn.pipeline import Pipeline\n",
    "\n",
    "from imblearn.over_sampling import SMOTE\n",
    "\n",
    "from sklearn.svm import SVC"
   ]
  },
  {
   "cell_type": "code",
   "execution_count": 2,
   "metadata": {},
   "outputs": [
    {
     "name": "stderr",
     "output_type": "stream",
     "text": [
      "[nltk_data] Downloading package stopwords to\n",
      "[nltk_data]     C:\\Users\\jmarcoglie\\AppData\\Roaming\\nltk_data...\n",
      "[nltk_data]   Package stopwords is already up-to-date!\n",
      "[nltk_data] Downloading package punkt to\n",
      "[nltk_data]     C:\\Users\\jmarcoglie\\AppData\\Roaming\\nltk_data...\n",
      "[nltk_data]   Package punkt is already up-to-date!\n",
      "[nltk_data] Downloading package wordnet to\n",
      "[nltk_data]     C:\\Users\\jmarcoglie\\AppData\\Roaming\\nltk_data...\n",
      "[nltk_data]   Package wordnet is already up-to-date!\n",
      "[nltk_data] Downloading package omw-1.4 to\n",
      "[nltk_data]     C:\\Users\\jmarcoglie\\AppData\\Roaming\\nltk_data...\n",
      "[nltk_data]   Package omw-1.4 is already up-to-date!\n",
      "[nltk_data] Downloading package vader_lexicon to\n",
      "[nltk_data]     C:\\Users\\jmarcoglie\\AppData\\Roaming\\nltk_data...\n",
      "[nltk_data]   Package vader_lexicon is already up-to-date!\n"
     ]
    }
   ],
   "source": [
    "# nlp libs\n",
    "import re\n",
    "\n",
    "import gensim\n",
    "from gensim.models import Word2Vec\n",
    "from gensim.models import Doc2Vec\n",
    "from gensim.models.doc2vec import TaggedDocument\n",
    "\n",
    "import nltk\n",
    "nltk.download('stopwords')\n",
    "nltk.download('punkt') # for stemming\n",
    "nltk.download('wordnet') # for lemmatizing\n",
    "nltk.download('omw-1.4')\n",
    "nltk.download('vader_lexicon')\n",
    "\n",
    "from nltk.corpus import stopwords\n",
    "\n",
    "from nltk.stem.snowball import SnowballStemmer\n",
    "from nltk.stem.porter import PorterStemmer\n",
    "from nltk.tokenize import word_tokenize\n",
    "\n",
    "from nltk.stem import WordNetLemmatizer"
   ]
  },
  {
   "cell_type": "code",
   "execution_count": 15,
   "metadata": {},
   "outputs": [
    {
     "name": "stdout",
     "output_type": "stream",
     "text": [
      "                                                   text  sentiment\n",
      "0     Kickers on my watchlist XIDE TIT SOQ PNK CPW B...          1\n",
      "1     user: AAP MOVIE. 55% return for the FEA/GEED i...          1\n",
      "2     user I'd be afraid to short AMZN - they are lo...          1\n",
      "3                                     MNTA Over 12.00            1\n",
      "4                                      OI  Over 21.37            1\n",
      "...                                                 ...        ...\n",
      "5786  Industry body CII said #discoms are likely to ...         -1\n",
      "5787  #Gold prices slip below Rs 46,000 as #investor...         -1\n",
      "5788  Workers at Bajaj Auto have agreed to a 10% wag...          1\n",
      "5789  #Sharemarket LIVE: Sensex off day’s high, up 6...          1\n",
      "5790  #Sensex, #Nifty climb off day's highs, still u...          1\n",
      "\n",
      "[5791 rows x 2 columns]\n",
      "                                                   text sentiment\n",
      "0     RT @RobertBeadles: Yo💥\\nEnter to WIN 1,000 Mon...  positive\n",
      "1     #SriLanka surcharge on fuel removed!\\n⛽📉\\nThe ...  negative\n",
      "2     Net issuance increases to fund fiscal programs...  positive\n",
      "3     RT @bentboolean: How much of Amazon's traffic ...  positive\n",
      "4     $AMD Ryzen 4000 desktop CPUs looking ‘great’ a...  positive\n",
      "...                                                 ...       ...\n",
      "1295  #stocks back from the recovery room: https://t...  positive\n",
      "1296  RT @MacroCharts: Breadth – expanding last week...  positive\n",
      "1297  RT @MawsonResource: Rompas-Rajapalot: A Big Ne...   neutral\n",
      "1298  $AAPL $QQQ Top may now be in. https://t.co/iNK...  positive\n",
      "1299  GLG Partners LP short position in HILTON FOOD ...  negative\n",
      "\n",
      "[1300 rows x 2 columns]\n"
     ]
    }
   ],
   "source": [
    "# https://www.kaggle.com/utkarshxy/stock-markettweets-lexicon-data - 9917 labelled tweets\n",
    "stock_data_file = os.getcwd() + \"\\\\Data\\\\stock_data.csv\"\n",
    "stock_data = pd.read_csv(stock_data_file)\n",
    "stock_data= stock_data.rename(columns=str.lower)\n",
    "stock_data.dropna(inplace=True)\n",
    "print(stock_data)\n",
    "\n",
    "# https://www.kaggle.com/yash612/stockmarket-sentiment-dataset - 5791 labelled tweets\n",
    "tweets_data_file = os.getcwd() + \"\\\\Data\\\\tweets_labelled.csv\"\n",
    "tweets_data = pd.read_csv(tweets_data_file, delimiter=';')\n",
    "tweets_data.drop(columns=['id','created_at'], inplace=True)\n",
    "tweets_data.dropna(inplace=True)\n",
    "print(tweets_data)\n",
    "\n",
    "# combine\n",
    "dataset_frames = [stock_data, tweets_data]\n",
    "dataset_frames_names = [\"stock_data\", \"tweets_data\"]\n",
    "combined_df = result = pd.concat(dataset_frames)"
   ]
  },
  {
   "cell_type": "markdown",
   "metadata": {},
   "source": [
    "### Definitions"
   ]
  },
  {
   "cell_type": "code",
   "execution_count": 16,
   "metadata": {},
   "outputs": [],
   "source": [
    "max_features = 10000\n",
    "def sentiment_to_label(sentiment):\n",
    "    if sentiment == \"positive\" or sentiment == 1:\n",
    "        return 1\n",
    "    elif sentiment == \"negative\" or sentiment == -1 or sentiment == 0:\n",
    "        return 0\n",
    "    else:\n",
    "        return pd.NA\n",
    "\n",
    "porter_stemmer = PorterStemmer()\n",
    "def stemming_tokenizer(str_input):\n",
    "    words = re.sub(r\"[^A-Za-z0-9\\-]\", \" \", str_input).lower().split()\n",
    "    words = [porter_stemmer.stem(word) for word in words]\n",
    "    return words\n",
    "\n",
    "lemmer=WordNetLemmatizer()\n",
    "def lemmatizing_tokenizer(str_input):\n",
    "    words = re.sub(r\"[^A-Za-z0-9\\-]\", \" \", str_input).lower().split()\n",
    "    words = [lemmer.lemmatize(word) for word in words]\n",
    "    return words\n",
    "\n",
    "# From Lab\n",
    "df_new = combined_df.reset_index(drop=True)\n",
    "REPLACE_BY_SPACE_RE = re.compile('[/(){}\\[\\]\\|@,;]')\n",
    "BAD_SYMBOLS_RE = re.compile('[^0-9a-z #+_]')\n",
    "STOPWORDS = set(stopwords.words('english'))\n",
    "\n",
    "def clean_text(text):\n",
    "    \"\"\"\n",
    "        text: a string\n",
    "        return: modified initial string\n",
    "    \"\"\"\n",
    "    \n",
    "    text = text.lower() # lowercase text\n",
    "    text = REPLACE_BY_SPACE_RE.sub(' ', text) # replace REPLACE_BY_SPACE_RE symbols by space in text. substitute the matched string in REPLACE_BY_SPACE_RE with space.\n",
    "    text = BAD_SYMBOLS_RE.sub('', text) # remove symbols which are in BAD_SYMBOLS_RE from text. substitute the matched string in BAD_SYMBOLS_RE with nothing. \n",
    "    text = text.replace('x', '')\n",
    "#    text = re.sub(r'\\W+', '', text)\n",
    "    text = ' '.join(word for word in text.split() if word not in STOPWORDS) # remove stopwors from text\n",
    "\n",
    "    return text"
   ]
  },
  {
   "cell_type": "markdown",
   "metadata": {},
   "source": [
    "### Cleaning"
   ]
  },
  {
   "cell_type": "code",
   "execution_count": 17,
   "metadata": {},
   "outputs": [
    {
     "name": "stderr",
     "output_type": "stream",
     "text": [
      "C:\\Users\\JMARCO~1\\AppData\\Local\\Temp/ipykernel_16944/1471953282.py:2: FutureWarning: The default value of regex will change from True to False in a future version.\n",
      "  df_new['text'] = df_new['text'].str.replace('\\d+', '')\n"
     ]
    },
    {
     "data": {
      "text/html": [
       "<div>\n",
       "<style scoped>\n",
       "    .dataframe tbody tr th:only-of-type {\n",
       "        vertical-align: middle;\n",
       "    }\n",
       "\n",
       "    .dataframe tbody tr th {\n",
       "        vertical-align: top;\n",
       "    }\n",
       "\n",
       "    .dataframe thead th {\n",
       "        text-align: right;\n",
       "    }\n",
       "</style>\n",
       "<table border=\"1\" class=\"dataframe\">\n",
       "  <thead>\n",
       "    <tr style=\"text-align: right;\">\n",
       "      <th></th>\n",
       "      <th>text</th>\n",
       "      <th>sentiment</th>\n",
       "    </tr>\n",
       "  </thead>\n",
       "  <tbody>\n",
       "    <tr>\n",
       "      <th>954</th>\n",
       "      <td></td>\n",
       "      <td>1.0</td>\n",
       "    </tr>\n",
       "    <tr>\n",
       "      <th>3405</th>\n",
       "      <td>ssys statement cash flow still secret mention ...</td>\n",
       "      <td>0.0</td>\n",
       "    </tr>\n",
       "    <tr>\n",
       "      <th>616</th>\n",
       "      <td>st watch list lien bit volume  full day average</td>\n",
       "      <td>1.0</td>\n",
       "    </tr>\n",
       "    <tr>\n",
       "      <th>4164</th>\n",
       "      <td>user idea whats going im taking profits shar...</td>\n",
       "      <td>1.0</td>\n",
       "    </tr>\n",
       "    <tr>\n",
       "      <th>4828</th>\n",
       "      <td>hit stops aap longs yesterday falling knife</td>\n",
       "      <td>0.0</td>\n",
       "    </tr>\n",
       "  </tbody>\n",
       "</table>\n",
       "</div>"
      ],
      "text/plain": [
       "                                                   text  sentiment\n",
       "954                                                            1.0\n",
       "3405  ssys statement cash flow still secret mention ...        0.0\n",
       "616     st watch list lien bit volume  full day average        1.0\n",
       "4164    user idea whats going im taking profits shar...        1.0\n",
       "4828        hit stops aap longs yesterday falling knife        0.0"
      ]
     },
     "execution_count": 17,
     "metadata": {},
     "output_type": "execute_result"
    }
   ],
   "source": [
    "df_new['text'] = df_new['text'].apply(clean_text)\n",
    "df_new['text'] = df_new['text'].str.replace('\\d+', '')\n",
    "df_new['sentiment'] = df_new['sentiment'].apply(sentiment_to_label)\n",
    "df_new['sentiment'] = pd.to_numeric(df_new['sentiment'])\n",
    "df_new.dropna(inplace=True)\n",
    "df_new = shuffle(df_new)\n",
    "df_new.head()"
   ]
  },
  {
   "cell_type": "code",
   "execution_count": 18,
   "metadata": {},
   "outputs": [
    {
     "name": "stdout",
     "output_type": "stream",
     "text": [
      "1.0    4213\n",
      "0.0    2454\n",
      "Name: sentiment, dtype: int64\n"
     ]
    },
    {
     "name": "stderr",
     "output_type": "stream",
     "text": [
      "C:\\ProgramData\\Anaconda3\\lib\\site-packages\\seaborn\\_decorators.py:36: FutureWarning: Pass the following variable as a keyword arg: x. From version 0.12, the only valid positional argument will be `data`, and passing other arguments without an explicit keyword will result in an error or misinterpretation.\n",
      "  warnings.warn(\n"
     ]
    },
    {
     "data": {
      "text/plain": [
       "Text(0.5, 0, 'sentiment')"
      ]
     },
     "execution_count": 18,
     "metadata": {},
     "output_type": "execute_result"
    },
    {
     "data": {
      "image/png": "[encoded data removed]",
      "text/plain": [
       "<Figure size 576x432 with 1 Axes>"
      ]
     },
     "metadata": {
      "needs_background": "light"
     },
     "output_type": "display_data"
    }
   ],
   "source": [
    "print(df_new['sentiment'].value_counts())\n",
    "rcParams['figure.figsize'] = 8, 6\n",
    "sns.countplot(df_new.sentiment)\n",
    "plt.xlabel('sentiment')"
   ]
  },
  {
   "cell_type": "code",
   "execution_count": 19,
   "metadata": {},
   "outputs": [
    {
     "name": "stderr",
     "output_type": "stream",
     "text": [
      "C:\\ProgramData\\Anaconda3\\lib\\site-packages\\sklearn\\feature_extraction\\text.py:396: UserWarning: Your stop_words may be inconsistent with your preprocessing. Tokenizing the stop words generated tokens ['abov', 'afterward', 'alon', 'alreadi', 'alway', 'ani', 'anoth', 'anyon', 'anyth', 'anywher', 'becam', 'becaus', 'becom', 'befor', 'besid', 'cri', 'describ', 'dure', 'els', 'elsewher', 'empti', 'everi', 'everyon', 'everyth', 'everywher', 'fifti', 'formerli', 'forti', 'ha', 'henc', 'hereaft', 'herebi', 'hi', 'howev', 'hundr', 'inde', 'latterli', 'mani', 'meanwhil', 'moreov', 'mostli', 'nobodi', 'noon', 'noth', 'nowher', 'onc', 'onli', 'otherwis', 'ourselv', 'perhap', 'pleas', 'seriou', 'sever', 'sinc', 'sincer', 'sixti', 'someon', 'someth', 'sometim', 'somewher', 'themselv', 'thenc', 'thereaft', 'therebi', 'therefor', 'thi', 'thu', 'togeth', 'twelv', 'twenti', 'veri', 'wa', 'whatev', 'whenc', 'whenev', 'wherea', 'whereaft', 'wherebi', 'wherev', 'whi', 'yourselv'] not in stop_words.\n",
      "  warnings.warn(\n"
     ]
    },
    {
     "name": "stdout",
     "output_type": "stream",
     "text": [
      "X_binary_counts.shape (6667, 9726)\n",
      "X_binary_counts[20]:\n",
      "  (0, 7944)\t1\n",
      "  (0, 8040)\t1\n",
      "  (0, 9395)\t1\n",
      "  (0, 6356)\t1\n",
      "  (0, 2023)\t1\n",
      "  (0, 2293)\t1\n",
      "  (0, 3297)\t1\n",
      "  (0, 4350)\t1\n",
      "  (0, 4752)\t1\n",
      "  (0, 5768)\t1\n",
      "  (0, 5513)\t1\n",
      "  (0, 5871)\t1\n",
      "  (0, 7403)\t1\n",
      "  (0, 7392)\t1\n",
      "  (0, 8995)\t1\n",
      "X_binary_counts.toarray()[0] [0 0 0 ... 0 0 0]\n",
      "len(X_binary_counts.toarray()[0]) 9726\n",
      "max(X_binary_counts.toarray()[0]) 9726\n"
     ]
    }
   ],
   "source": [
    "X = df_new['text']\n",
    "y = [int(x) for x in df_new['sentiment']]\n",
    "\n",
    "count_vect = CountVectorizer(tokenizer=stemming_tokenizer, stop_words='english', max_features=max_features)\n",
    "X_binary_counts = count_vect.fit_transform(X)\n",
    "print(\"X_binary_counts.shape\", X_binary_counts.shape)\n",
    "print(\"X_binary_counts[20]:\\n%s\" %X_binary_counts[20])\n",
    "print(\"X_binary_counts.toarray()[0]\", X_binary_counts.toarray()[0])\n",
    "print(\"len(X_binary_counts.toarray()[0])\", len(X_binary_counts.toarray()[0]))\n",
    "print(\"max(X_binary_counts.toarray()[0])\", len(max(X_binary_counts.toarray(), key=len)))"
   ]
  },
  {
   "cell_type": "markdown",
   "metadata": {},
   "source": [
    "##### TF-IDF"
   ]
  },
  {
   "cell_type": "code",
   "execution_count": 23,
   "metadata": {},
   "outputs": [
    {
     "name": "stdout",
     "output_type": "stream",
     "text": [
      "X_tfidf_binary.shape (6667, 9726)\n"
     ]
    },
    {
     "data": {
      "text/plain": [
       "array([[0., 0., 0., ..., 0., 0., 0.],\n",
       "       [0., 0., 0., ..., 0., 0., 0.],\n",
       "       [0., 0., 0., ..., 0., 0., 0.],\n",
       "       ...,\n",
       "       [0., 0., 0., ..., 0., 0., 0.],\n",
       "       [0., 0., 0., ..., 0., 0., 0.],\n",
       "       [0., 0., 0., ..., 0., 0., 0.]])"
      ]
     },
     "execution_count": 23,
     "metadata": {},
     "output_type": "execute_result"
    }
   ],
   "source": [
    "tfidf_transformer = TfidfTransformer() \n",
    "\n",
    "X_tfidf_binary = tfidf_transformer.fit_transform(X_binary_counts)\n",
    "print(\"X_tfidf_binary.shape\", X_tfidf_binary.shape)\n",
    "X_all_binary = X_tfidf_binary.toarray()\n",
    "X_all_binary"
   ]
  },
  {
   "cell_type": "markdown",
   "metadata": {},
   "source": [
    "##### Smote Oversampling"
   ]
  },
  {
   "cell_type": "code",
   "execution_count": 24,
   "metadata": {},
   "outputs": [
    {
     "name": "stdout",
     "output_type": "stream",
     "text": [
      "SMOTE oversamples dataset shape Counter({1: 4213, 0: 4213})\n",
      "X_res.shape (8426, 9726)\n"
     ]
    }
   ],
   "source": [
    "smote = SMOTE(random_state=42)\n",
    "X_res, y_res = smote.fit_resample(X_all_binary, y)\n",
    "print('SMOTE oversamples dataset shape %s' % Counter(y_res))\n",
    "print(\"X_res.shape\", X_res.shape)\n",
    "X_all_binary = X_res\n",
    "y = [int(x) for x in y_res]"
   ]
  },
  {
   "cell_type": "markdown",
   "metadata": {},
   "source": [
    "##### CVM Best Model - Train Tweet Classifier "
   ]
  },
  {
   "cell_type": "code",
   "execution_count": 25,
   "metadata": {},
   "outputs": [],
   "source": [
    "clf = SVC(C=50, gamma=1, random_state=42).fit(X_all_binary, y)"
   ]
  },
  {
   "cell_type": "markdown",
   "metadata": {},
   "source": [
    "## Bitcoin Tweets\n",
    "\n",
    "Kash. (2021-10-16). Bitcoin Tweets, 1. Retrieved 2022-03-06 from https://www.kaggle.com/kaushiksuresh147/bitcoin-tweets."
   ]
  },
  {
   "cell_type": "code",
   "execution_count": 4,
   "metadata": {},
   "outputs": [],
   "source": [
    "import zipfile\n",
    "import os\n",
    "import pandas as pd\n",
    "cwd = os.getcwd()\n",
    "zipped_file_location = cwd = os.getcwd() + \"\\\\Data\\\\bitcoin_tweets.zip\"\n",
    "unzipped_file_location = os.getcwd() + \"\\\\Data\\\\\"\n",
    "tweets_file =  os.getcwd() + \"\\\\Data\\\\bitcoin_tweets.csv\"\n",
    "\n",
    "df_tweets = None\n",
    "if not os.path.isfile(unzipped_file_location + 'formatted_bitcoin_tweets.csv'):\n",
    "\n",
    "    # Extract ZIP\n",
    "    with zipfile.ZipFile(zipped_file_location, 'r') as zip_ref:\n",
    "        zip_ref.extractall(unzipped_file_location)\n",
    "\n",
    "    # Read from title file\n",
    "    df_tweets = pd.read_csv(tweets_file)\n",
    "\n",
    "    # Remove temp files \n",
    "    os.remove(os.path.join(unzipped_file_location,tweets_file))\n",
    "\n",
    "    # Convert\n",
    "    df_tweets[\"date\"] = pd.to_datetime(df_tweets[\"date\"], errors=\"coerce\", utc=True)\n",
    "    df_tweets[\"date\"] = df_tweets[\"date\"].dt.date\n",
    "    df_tweets = df_tweets.set_index(pd.DatetimeIndex(df_tweets['date']))\n",
    "    df_tweets.dropna(inplace=True)\n",
    "\n",
    "    # Remove unrequired columns\n",
    "    df_tweets = df_tweets[['text']]\n",
    "\n",
    "    # Save \n",
    "    #compression_opts = dict(method='zip', archive_name='formatted_bitcoin_news.zip') \n",
    "    df_tweets.to_csv(unzipped_file_location + 'formatted_bitcoin_tweets.csv')\n",
    "else:\n",
    "    df_tweets = pd.read_csv(unzipped_file_location + 'formatted_bitcoin_tweets.csv')\n",
    "    df_tweets = df_tweets.set_index(pd.DatetimeIndex(df_tweets['date']))\n",
    "    df_tweets = df_tweets[['text']]"
   ]
  },
  {
   "cell_type": "code",
   "execution_count": 21,
   "metadata": {},
   "outputs": [
    {
     "data": {
      "text/html": [
       "<div>\n",
       "<style scoped>\n",
       "    .dataframe tbody tr th:only-of-type {\n",
       "        vertical-align: middle;\n",
       "    }\n",
       "\n",
       "    .dataframe tbody tr th {\n",
       "        vertical-align: top;\n",
       "    }\n",
       "\n",
       "    .dataframe thead th {\n",
       "        text-align: right;\n",
       "    }\n",
       "</style>\n",
       "<table border=\"1\" class=\"dataframe\">\n",
       "  <thead>\n",
       "    <tr style=\"text-align: right;\">\n",
       "      <th></th>\n",
       "      <th>text</th>\n",
       "    </tr>\n",
       "    <tr>\n",
       "      <th>date</th>\n",
       "      <th></th>\n",
       "    </tr>\n",
       "  </thead>\n",
       "  <tbody>\n",
       "    <tr>\n",
       "      <th>2021-02-10</th>\n",
       "      <td>Blue Ridge Bank shares halted by NYSE after #b...</td>\n",
       "    </tr>\n",
       "    <tr>\n",
       "      <th>2021-02-10</th>\n",
       "      <td>This network is secured by 9 508 nodes as of t...</td>\n",
       "    </tr>\n",
       "    <tr>\n",
       "      <th>2021-02-10</th>\n",
       "      <td>💹 Trade #Crypto on #Binance \\n\\n📌 Enjoy #Cashb...</td>\n",
       "    </tr>\n",
       "    <tr>\n",
       "      <th>2021-02-10</th>\n",
       "      <td>&amp;lt;'fire' &amp;amp; 'man'&amp;gt;\\n#Bitcoin #Crypto #...</td>\n",
       "    </tr>\n",
       "    <tr>\n",
       "      <th>2021-02-10</th>\n",
       "      <td>.@Tesla’s #bitcoin investment is revolutionary...</td>\n",
       "    </tr>\n",
       "    <tr>\n",
       "      <th>...</th>\n",
       "      <td>...</td>\n",
       "    </tr>\n",
       "    <tr>\n",
       "      <th>2022-03-02</th>\n",
       "      <td>#btc testing testing testing 👀🚀</td>\n",
       "    </tr>\n",
       "    <tr>\n",
       "      <th>2022-03-02</th>\n",
       "      <td>This project is give us a very Good profit. I ...</td>\n",
       "    </tr>\n",
       "    <tr>\n",
       "      <th>2022-03-02</th>\n",
       "      <td>👑Psycho Ape is an exclusive collection of uniq...</td>\n",
       "    </tr>\n",
       "    <tr>\n",
       "      <th>2022-03-02</th>\n",
       "      <td>Current #Bitcoin Price is $44370 #BTC #Crypto</td>\n",
       "    </tr>\n",
       "    <tr>\n",
       "      <th>2022-03-02</th>\n",
       "      <td>#Orijin #Polygon #IDO #BSC #Eth #BTC #Airdrop ...</td>\n",
       "    </tr>\n",
       "  </tbody>\n",
       "</table>\n",
       "<p>1148241 rows × 1 columns</p>\n",
       "</div>"
      ],
      "text/plain": [
       "                                                         text\n",
       "date                                                         \n",
       "2021-02-10  Blue Ridge Bank shares halted by NYSE after #b...\n",
       "2021-02-10  This network is secured by 9 508 nodes as of t...\n",
       "2021-02-10  💹 Trade #Crypto on #Binance \\n\\n📌 Enjoy #Cashb...\n",
       "2021-02-10  &lt;'fire' &amp; 'man'&gt;\\n#Bitcoin #Crypto #...\n",
       "2021-02-10  .@Tesla’s #bitcoin investment is revolutionary...\n",
       "...                                                       ...\n",
       "2022-03-02                    #btc testing testing testing 👀🚀\n",
       "2022-03-02  This project is give us a very Good profit. I ...\n",
       "2022-03-02  👑Psycho Ape is an exclusive collection of uniq...\n",
       "2022-03-02      Current #Bitcoin Price is $44370 #BTC #Crypto\n",
       "2022-03-02  #Orijin #Polygon #IDO #BSC #Eth #BTC #Airdrop ...\n",
       "\n",
       "[1148241 rows x 1 columns]"
      ]
     },
     "execution_count": 21,
     "metadata": {},
     "output_type": "execute_result"
    }
   ],
   "source": [
    "df_tweets"
   ]
  },
  {
   "cell_type": "code",
   "execution_count": 22,
   "metadata": {},
   "outputs": [
    {
     "data": {
      "text/plain": [
       "<AxesSubplot:xlabel='date'>"
      ]
     },
     "execution_count": 22,
     "metadata": {},
     "output_type": "execute_result"
    },
    {
     "data": {
      "image/png": "[encoded data removed]",
      "text/plain": [
       "<Figure size 432x288 with 1 Axes>"
      ]
     },
     "metadata": {
      "needs_background": "light"
     },
     "output_type": "display_data"
    }
   ],
   "source": [
    "df_tweets.groupby(pd.Grouper(freq=\"M\")).count().plot(kind=\"bar\")"
   ]
  },
  {
   "cell_type": "markdown",
   "metadata": {},
   "source": [
    "### Cleaning"
   ]
  },
  {
   "cell_type": "code",
   "execution_count": 36,
   "metadata": {},
   "outputs": [
    {
     "name": "stderr",
     "output_type": "stream",
     "text": [
      "C:\\Users\\JMARCO~1\\AppData\\Local\\Temp/ipykernel_16944/3339991055.py:2: FutureWarning: The default value of regex will change from True to False in a future version.\n",
      "  df_tweets['text'] = df_tweets['text'].str.replace('\\d+', '')\n"
     ]
    },
    {
     "data": {
      "text/html": [
       "<div>\n",
       "<style scoped>\n",
       "    .dataframe tbody tr th:only-of-type {\n",
       "        vertical-align: middle;\n",
       "    }\n",
       "\n",
       "    .dataframe tbody tr th {\n",
       "        vertical-align: top;\n",
       "    }\n",
       "\n",
       "    .dataframe thead th {\n",
       "        text-align: right;\n",
       "    }\n",
       "</style>\n",
       "<table border=\"1\" class=\"dataframe\">\n",
       "  <thead>\n",
       "    <tr style=\"text-align: right;\">\n",
       "      <th></th>\n",
       "      <th>text</th>\n",
       "    </tr>\n",
       "    <tr>\n",
       "      <th>date</th>\n",
       "      <th></th>\n",
       "    </tr>\n",
       "  </thead>\n",
       "  <tbody>\n",
       "    <tr>\n",
       "      <th>2021-02-10</th>\n",
       "      <td>blue ridge bank shares halted nyse #bitcoin at...</td>\n",
       "    </tr>\n",
       "    <tr>\n",
       "      <th>2021-02-10</th>\n",
       "      <td>network secured   nodes today soon biggest bea...</td>\n",
       "    </tr>\n",
       "    <tr>\n",
       "      <th>2021-02-10</th>\n",
       "      <td>trade #crypto #binance enjoy #cashback  tradin...</td>\n",
       "    </tr>\n",
       "    <tr>\n",
       "      <th>2021-02-10</th>\n",
       "      <td>lt fire amp mangt #bitcoin #crypto #btc https ...</td>\n",
       "    </tr>\n",
       "    <tr>\n",
       "      <th>2021-02-10</th>\n",
       "      <td>teslas #bitcoin investment revolutionary #cryp...</td>\n",
       "    </tr>\n",
       "  </tbody>\n",
       "</table>\n",
       "</div>"
      ],
      "text/plain": [
       "                                                         text\n",
       "date                                                         \n",
       "2021-02-10  blue ridge bank shares halted nyse #bitcoin at...\n",
       "2021-02-10  network secured   nodes today soon biggest bea...\n",
       "2021-02-10  trade #crypto #binance enjoy #cashback  tradin...\n",
       "2021-02-10  lt fire amp mangt #bitcoin #crypto #btc https ...\n",
       "2021-02-10  teslas #bitcoin investment revolutionary #cryp..."
      ]
     },
     "execution_count": 36,
     "metadata": {},
     "output_type": "execute_result"
    }
   ],
   "source": [
    "df_tweets['text'] = df_tweets['text'].apply(clean_text)\n",
    "df_tweets['text'] = df_tweets['text'].str.replace('\\d+', '')\n",
    "df_tweets.head()"
   ]
  },
  {
   "cell_type": "markdown",
   "metadata": {},
   "source": [
    "### Tagging"
   ]
  },
  {
   "cell_type": "code",
   "execution_count": 1,
   "metadata": {},
   "outputs": [],
   "source": [
    "import zipfile\n",
    "import os\n",
    "import pandas as pd\n",
    "cwd = os.getcwd()\n",
    "unzipped_file_location = os.getcwd() + \"\\\\Data\\\\\"\n",
    "\n",
    "# WARNING - TAKES 24 HOURS TO COMPLETE!!!\n",
    "if not os.path.isfile(unzipped_file_location + 'formatted_bitcoin_tweets_labelled.csv'):\n",
    "    # we need to chunk as we don't have nearly enough memory to convert entire sparse matrix to array!\n",
    "    n = 1000    #chunk row size\n",
    "    bitcoin_tweet_sentiment_predictions = []\n",
    "    list_df = np.array_split(df_tweets, n)\n",
    "    for idx, df_slice in enumerate(list_df):\n",
    "        print(\"Processing chunk \" + str(idx+1) + \"/\" +str(n))\n",
    "        slice_binary_counts = count_vect.transform(df_slice['text'])\n",
    "        slice_tfidf_binary = tfidf_transformer.transform(slice_binary_counts)\n",
    "        slice_binary_arr = slice_tfidf_binary.toarray()\n",
    "        bitcoin_tweet_sentiment_predictions.extend(clf.predict(slice_binary_arr))\n",
    "\n",
    "    df_tweets['sentiment'] = bitcoin_tweet_sentiment_predictions\n",
    "    df_tweets['sentiment'] = df_tweets['sentiment'].apply(sentiment_to_label)\n",
    "    df_tweets['sentiment'] = pd.to_numeric(df_tweets['sentiment'])\n",
    "    df_tweets.to_csv(unzipped_file_location + 'formatted_bitcoin_tweets_labelled.csv')\n",
    "else:\n",
    "    df_tweets = pd.read_csv(unzipped_file_location + 'formatted_bitcoin_tweets_labelled.csv')\n",
    "    df_tweets = df_tweets.set_index(pd.DatetimeIndex(df_tweets['date']))\n",
    "    df_tweets = df_tweets[['text','sentiment']]"
   ]
  },
  {
   "cell_type": "code",
   "execution_count": 2,
   "metadata": {},
   "outputs": [
    {
     "data": {
      "text/html": [
       "<div>\n",
       "<style scoped>\n",
       "    .dataframe tbody tr th:only-of-type {\n",
       "        vertical-align: middle;\n",
       "    }\n",
       "\n",
       "    .dataframe tbody tr th {\n",
       "        vertical-align: top;\n",
       "    }\n",
       "\n",
       "    .dataframe thead th {\n",
       "        text-align: right;\n",
       "    }\n",
       "</style>\n",
       "<table border=\"1\" class=\"dataframe\">\n",
       "  <thead>\n",
       "    <tr style=\"text-align: right;\">\n",
       "      <th></th>\n",
       "      <th>text</th>\n",
       "      <th>sentiment</th>\n",
       "    </tr>\n",
       "    <tr>\n",
       "      <th>date</th>\n",
       "      <th></th>\n",
       "      <th></th>\n",
       "    </tr>\n",
       "  </thead>\n",
       "  <tbody>\n",
       "    <tr>\n",
       "      <th>2021-02-10</th>\n",
       "      <td>blue ridge bank shares halted nyse #bitcoin at...</td>\n",
       "      <td>0</td>\n",
       "    </tr>\n",
       "    <tr>\n",
       "      <th>2021-02-10</th>\n",
       "      <td>network secured   nodes today soon biggest bea...</td>\n",
       "      <td>0</td>\n",
       "    </tr>\n",
       "    <tr>\n",
       "      <th>2021-02-10</th>\n",
       "      <td>trade #crypto #binance enjoy #cashback  tradin...</td>\n",
       "      <td>1</td>\n",
       "    </tr>\n",
       "    <tr>\n",
       "      <th>2021-02-10</th>\n",
       "      <td>lt fire amp mangt #bitcoin #crypto #btc https ...</td>\n",
       "      <td>1</td>\n",
       "    </tr>\n",
       "    <tr>\n",
       "      <th>2021-02-10</th>\n",
       "      <td>teslas #bitcoin investment revolutionary #cryp...</td>\n",
       "      <td>1</td>\n",
       "    </tr>\n",
       "    <tr>\n",
       "      <th>...</th>\n",
       "      <td>...</td>\n",
       "      <td>...</td>\n",
       "    </tr>\n",
       "    <tr>\n",
       "      <th>2022-03-02</th>\n",
       "      <td>#btc testing testing testing</td>\n",
       "      <td>0</td>\n",
       "    </tr>\n",
       "    <tr>\n",
       "      <th>2022-03-02</th>\n",
       "      <td>project give us good profit see person joining...</td>\n",
       "      <td>1</td>\n",
       "    </tr>\n",
       "    <tr>\n",
       "      <th>2022-03-02</th>\n",
       "      <td>psycho ape eclusive collection unique nft phas...</td>\n",
       "      <td>1</td>\n",
       "    </tr>\n",
       "    <tr>\n",
       "      <th>2022-03-02</th>\n",
       "      <td>current #bitcoin price  #btc #crypto</td>\n",
       "      <td>1</td>\n",
       "    </tr>\n",
       "    <tr>\n",
       "      <th>2022-03-02</th>\n",
       "      <td>#orijin #polygon #ido #bsc #eth #btc #airdrop ...</td>\n",
       "      <td>1</td>\n",
       "    </tr>\n",
       "  </tbody>\n",
       "</table>\n",
       "<p>1148241 rows × 2 columns</p>\n",
       "</div>"
      ],
      "text/plain": [
       "                                                         text  sentiment\n",
       "date                                                                    \n",
       "2021-02-10  blue ridge bank shares halted nyse #bitcoin at...          0\n",
       "2021-02-10  network secured   nodes today soon biggest bea...          0\n",
       "2021-02-10  trade #crypto #binance enjoy #cashback  tradin...          1\n",
       "2021-02-10  lt fire amp mangt #bitcoin #crypto #btc https ...          1\n",
       "2021-02-10  teslas #bitcoin investment revolutionary #cryp...          1\n",
       "...                                                       ...        ...\n",
       "2022-03-02                       #btc testing testing testing          0\n",
       "2022-03-02  project give us good profit see person joining...          1\n",
       "2022-03-02  psycho ape eclusive collection unique nft phas...          1\n",
       "2022-03-02               current #bitcoin price  #btc #crypto          1\n",
       "2022-03-02  #orijin #polygon #ido #bsc #eth #btc #airdrop ...          1\n",
       "\n",
       "[1148241 rows x 2 columns]"
      ]
     },
     "execution_count": 2,
     "metadata": {},
     "output_type": "execute_result"
    }
   ],
   "source": [
    "df_tweets"
   ]
  },
  {
   "cell_type": "code",
   "execution_count": 12,
   "metadata": {},
   "outputs": [
    {
     "data": {
      "text/plain": [
       "<AxesSubplot:xlabel='date'>"
      ]
     },
     "execution_count": 12,
     "metadata": {},
     "output_type": "execute_result"
    },
    {
     "data": {
      "image/png": "[encoded data removed]",
      "text/plain": [
       "<Figure size 432x288 with 1 Axes>"
      ]
     },
     "metadata": {
      "needs_background": "light"
     },
     "output_type": "display_data"
    }
   ],
   "source": [
    "df_tweets['sentiment'].groupby(pd.Grouper(freq=\"M\")).value_counts().unstack().plot(kind=\"bar\")"
   ]
  },
  {
   "cell_type": "markdown",
   "metadata": {},
   "source": [
    "https://www.kaggle.com/utkarshxy/stock-markettweets-lexicon-data\n",
    "\n",
    "https://www.kaggle.com/saurabhshahane/twitter-sentiment-dataset\n"
   ]
  },
  {
   "cell_type": "markdown",
   "metadata": {},
   "source": [
    "## Bitcoin Historical Data from Yahoo Finance\n"
   ]
  },
  {
   "cell_type": "code",
   "execution_count": 20,
   "metadata": {},
   "outputs": [
    {
     "data": {
      "text/html": [
       "<div>\n",
       "<style scoped>\n",
       "    .dataframe tbody tr th:only-of-type {\n",
       "        vertical-align: middle;\n",
       "    }\n",
       "\n",
       "    .dataframe tbody tr th {\n",
       "        vertical-align: top;\n",
       "    }\n",
       "\n",
       "    .dataframe thead th {\n",
       "        text-align: right;\n",
       "    }\n",
       "</style>\n",
       "<table border=\"1\" class=\"dataframe\">\n",
       "  <thead>\n",
       "    <tr style=\"text-align: right;\">\n",
       "      <th></th>\n",
       "      <th>open</th>\n",
       "      <th>close</th>\n",
       "      <th>target</th>\n",
       "    </tr>\n",
       "    <tr>\n",
       "      <th>date</th>\n",
       "      <th></th>\n",
       "      <th></th>\n",
       "      <th></th>\n",
       "    </tr>\n",
       "  </thead>\n",
       "  <tbody>\n",
       "    <tr>\n",
       "      <th>2021-02-10</th>\n",
       "      <td>46469.761719</td>\n",
       "      <td>44918.183594</td>\n",
       "      <td>0</td>\n",
       "    </tr>\n",
       "    <tr>\n",
       "      <th>2021-02-11</th>\n",
       "      <td>44898.710938</td>\n",
       "      <td>47909.332031</td>\n",
       "      <td>1</td>\n",
       "    </tr>\n",
       "    <tr>\n",
       "      <th>2021-02-12</th>\n",
       "      <td>47877.035156</td>\n",
       "      <td>47504.851563</td>\n",
       "      <td>0</td>\n",
       "    </tr>\n",
       "    <tr>\n",
       "      <th>2021-02-13</th>\n",
       "      <td>47491.203125</td>\n",
       "      <td>47105.515625</td>\n",
       "      <td>0</td>\n",
       "    </tr>\n",
       "    <tr>\n",
       "      <th>2021-02-14</th>\n",
       "      <td>47114.507813</td>\n",
       "      <td>48717.289063</td>\n",
       "      <td>1</td>\n",
       "    </tr>\n",
       "    <tr>\n",
       "      <th>...</th>\n",
       "      <td>...</td>\n",
       "      <td>...</td>\n",
       "      <td>...</td>\n",
       "    </tr>\n",
       "    <tr>\n",
       "      <th>2022-02-26</th>\n",
       "      <td>39213.082031</td>\n",
       "      <td>39105.148438</td>\n",
       "      <td>0</td>\n",
       "    </tr>\n",
       "    <tr>\n",
       "      <th>2022-02-27</th>\n",
       "      <td>39098.699219</td>\n",
       "      <td>37709.785156</td>\n",
       "      <td>0</td>\n",
       "    </tr>\n",
       "    <tr>\n",
       "      <th>2022-02-28</th>\n",
       "      <td>37706.000000</td>\n",
       "      <td>43193.234375</td>\n",
       "      <td>1</td>\n",
       "    </tr>\n",
       "    <tr>\n",
       "      <th>2022-03-01</th>\n",
       "      <td>43194.503906</td>\n",
       "      <td>44354.636719</td>\n",
       "      <td>1</td>\n",
       "    </tr>\n",
       "    <tr>\n",
       "      <th>2022-03-02</th>\n",
       "      <td>44357.617188</td>\n",
       "      <td>43924.117188</td>\n",
       "      <td>0</td>\n",
       "    </tr>\n",
       "  </tbody>\n",
       "</table>\n",
       "<p>386 rows × 3 columns</p>\n",
       "</div>"
      ],
      "text/plain": [
       "                    open         close  target\n",
       "date                                          \n",
       "2021-02-10  46469.761719  44918.183594       0\n",
       "2021-02-11  44898.710938  47909.332031       1\n",
       "2021-02-12  47877.035156  47504.851563       0\n",
       "2021-02-13  47491.203125  47105.515625       0\n",
       "2021-02-14  47114.507813  48717.289063       1\n",
       "...                  ...           ...     ...\n",
       "2022-02-26  39213.082031  39105.148438       0\n",
       "2022-02-27  39098.699219  37709.785156       0\n",
       "2022-02-28  37706.000000  43193.234375       1\n",
       "2022-03-01  43194.503906  44354.636719       1\n",
       "2022-03-02  44357.617188  43924.117188       0\n",
       "\n",
       "[386 rows x 3 columns]"
      ]
     },
     "execution_count": 20,
     "metadata": {},
     "output_type": "execute_result"
    }
   ],
   "source": [
    "import zipfile\n",
    "import os\n",
    "import pandas as pd\n",
    "import numpy as np\n",
    "csv_file =  os.getcwd() + \"\\\\Data\\\\BTC-USD.csv\"\n",
    "\n",
    "# Read from title file\n",
    "price_df = pd.read_csv(csv_file)\n",
    "\n",
    "# Date\n",
    "price_df['date'] = pd.to_datetime(price_df['date']) \n",
    "price_df = price_df.set_index(pd.DatetimeIndex(price_df['date']))\n",
    "\n",
    "# On our Bitcoin data, we have a column ‘Close’ with the closing price of the day and ‘Open’ with the opening price of the day. \n",
    "# We want to get the percentage difference from the closing price with respect to the opening price so we have a variable with that day’s performance. \n",
    "# To get this variable we will calculate the logarithmic difference between the close and open price.\n",
    "price_df['log_diff'] = np.log(price_df['close']) - np.log(price_df['open'])\n",
    "\n",
    "# Generate our target variable by setting “1” if the performance was positive (log_diff > 0) and “0” if else.\n",
    "price_df['target'] = [1 if log_diff > 0 else 0 for log_diff in price_df['log_diff']]\n",
    "\n",
    "# Remove unrequired columns\n",
    "price_df.drop(columns=['high','low','adj close','volume','date','log_diff'], inplace=True)\n",
    "\n",
    "# Save \n",
    "price_df.columns = map(str.lower, price_df.columns)\n",
    "price_df.to_csv(os.getcwd() + '\\\\Data\\\\formatted_bitcoin_price.csv')\n",
    "price_df\n"
   ]
  }
 ],
 "metadata": {
  "interpreter": {
   "hash": "b3ba2566441a7c06988d0923437866b63cedc61552a5af99d1f4fb67d367b25f"
  },
  "kernelspec": {
   "display_name": "Python 3.9.7 ('base')",
   "language": "python",
   "name": "python3"
  },
  "language_info": {
   "codemirror_mode": {
    "name": "ipython",
    "version": 3
   },
   "file_extension": ".py",
   "mimetype": "text/x-python",
   "name": "python",
   "nbconvert_exporter": "python",
   "pygments_lexer": "ipython3",
   "version": "3.9.7"
  },
  "orig_nbformat": 4
 },
 "nbformat": 4,
 "nbformat_minor": 2
}
